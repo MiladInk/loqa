{
 "cells": [
  {
   "cell_type": "code",
   "execution_count": 5,
   "id": "initial_id",
   "metadata": {
    "collapsed": true,
    "ExecuteTime": {
     "end_time": "2024-02-24T06:16:59.324089Z",
     "start_time": "2024-02-24T06:16:59.315649Z"
    }
   },
   "outputs": [],
   "source": [
    "import jax"
   ]
  },
  {
   "cell_type": "code",
   "outputs": [],
   "source": [
    "from league.run_league import get_all_agent_loaders, get_hp, evaluate_these_agent_combinations\n",
    "hp = get_hp(debug_mode=False, batch_size=1, trace_length=50)\n",
    "_, named_agent_loaders = get_all_agent_loaders(hp)"
   ],
   "metadata": {
    "collapsed": false,
    "ExecuteTime": {
     "end_time": "2024-02-24T06:16:59.688Z",
     "start_time": "2024-02-24T06:16:59.683908Z"
    }
   },
   "id": "ed4ffd6f879b7503",
   "execution_count": 6
  },
  {
   "cell_type": "code",
   "outputs": [
    {
     "name": "stdout",
     "output_type": "stream",
     "text": [
      "dict_keys(['loqa_2i4vsulp', 'loqa_2ynm2tt3', 'loqa_2zgb3k1q', 'loqa_3islgbi7', 'loqa_3r9977xr', 'loqa_20htxiyc', 'loqa_30j2wrur', 'loqa_31zh1lui', 'loqa_37u1bq3f', 'loqa_233m1v5f', 'pola_new_0', 'pola_new_1', 'pola_new_2', 'pola_new_3', 'pola_new_4', 'pola_new_5', 'pola_new_6', 'pola_new_7', 'pola_new_8', 'pola_new_9', 'loqa_rb_ablation_1abkzsx3', 'loqa_rb_ablation_1tieobkn', 'loqa_rb_ablation_2xndvhhp', 'loqa_rb_ablation_2zpspi7d', 'loqa_rb_ablation_3kfuinhg', 'loqa_rb_ablation_3o6xocrm', 'loqa_rb_ablation_3tocppgh', 'loqa_rb_ablation_375wzono', 'loqa_rb_ablation_d3g7n3wp', 'loqa_rb_ablation_ejpsvuwk', 'loqa_sp_ablation_1ecqpbed', 'loqa_sp_ablation_2ntyuzde', 'loqa_sp_ablation_3cfm0yd6', 'loqa_sp_ablation_3cfulper', 'loqa_sp_ablation_16qp3f50', 'loqa_sp_ablation_20gama5k', 'loqa_sp_ablation_60m01f0h', 'loqa_sp_ablation_aehjqk0o', 'loqa_sp_ablation_dqoxc4wd', 'loqa_sp_ablation_q9u2wcx2', 'mfos_42', 'mfos_43', 'mfos_44', 'mfos_45', 'mfos_46', 'mfos_47', 'mfos_48', 'mfos_49', 'mfos_50', 'mfos_51', 'Always Defect', 'Always Cooperate', 'random'])\n"
     ]
    }
   ],
   "source": [
    "print(named_agent_loaders.keys())"
   ],
   "metadata": {
    "collapsed": false,
    "ExecuteTime": {
     "end_time": "2024-02-24T06:17:00.149136Z",
     "start_time": "2024-02-24T06:17:00.141785Z"
    }
   },
   "id": "40c6514c04b2e2e4",
   "execution_count": 7
  },
  {
   "cell_type": "code",
   "outputs": [
    {
     "name": "stdout",
     "output_type": "stream",
     "text": [
      "loqa_2i4vsulp vs loqa_2i4vsulp:\n",
      "t: 0 time passed: 12.534210205078125\n",
      "t: 1 time passed: 24.324239253997803\n",
      "t: 2 time passed: 35.17712903022766\n",
      "t: 3 time passed: 46.06133818626404\n",
      "t: 4 time passed: 56.867451190948486\n",
      "t: 5 time passed: 67.65268397331238\n",
      "t: 6 time passed: 78.87765097618103\n",
      "t: 7 time passed: 89.7091121673584\n",
      "t: 8 time passed: 101.3824713230133\n",
      "t: 9 time passed: 112.91689491271973\n",
      "t: 10 time passed: 123.67712616920471\n",
      "t: 11 time passed: 134.33768391609192\n",
      "t: 12 time passed: 145.09842920303345\n",
      "t: 13 time passed: 156.15355110168457\n",
      "t: 14 time passed: 167.1472930908203\n",
      "t: 15 time passed: 178.06982016563416\n",
      "t: 16 time passed: 188.79031825065613\n",
      "t: 17 time passed: 199.87929010391235\n",
      "t: 18 time passed: 210.5575020313263\n",
      "t: 19 time passed: 221.3583071231842\n",
      "t: 20 time passed: 232.5380461215973\n",
      "t: 21 time passed: 243.4936990737915\n",
      "t: 22 time passed: 254.25515818595886\n",
      "t: 23 time passed: 264.7939052581787\n",
      "t: 24 time passed: 275.5654683113098\n",
      "t: 25 time passed: 286.33645510673523\n",
      "t: 26 time passed: 297.34759616851807\n",
      "t: 27 time passed: 308.0629529953003\n",
      "t: 28 time passed: 319.40384101867676\n",
      "t: 29 time passed: 329.90909218788147\n",
      "t: 30 time passed: 341.009996175766\n",
      "t: 31 time passed: 350.818058013916\n",
      "t: 32 time passed: 360.9295561313629\n",
      "t: 33 time passed: 371.20389199256897\n",
      "t: 34 time passed: 383.03191208839417\n",
      "t: 35 time passed: 398.89822793006897\n",
      "t: 36 time passed: 410.2487461566925\n",
      "t: 37 time passed: 421.99690222740173\n",
      "t: 38 time passed: 432.03544902801514\n",
      "t: 39 time passed: 461.66502618789673\n",
      "t: 40 time passed: 471.5817651748657\n",
      "t: 41 time passed: 481.7692050933838\n",
      "t: 42 time passed: 491.80320405960083\n",
      "t: 43 time passed: 1097.3285040855408\n",
      "t: 44 time passed: 1111.4224100112915\n",
      "t: 45 time passed: 1123.1669461727142\n",
      "t: 46 time passed: 1136.8703181743622\n",
      "t: 47 time passed: 1148.4247381687164\n",
      "t: 48 time passed: 1158.658452987671\n",
      "t: 49 time passed: 1168.5146851539612\n",
      "{'mean_rewards': Array([0.28, 0.32], dtype=float32), 'mean_pickup_rewards': Array([0.4516129, 0.516129 ], dtype=float32), 'action_entropy': Array([1.3776472, 1.3068662], dtype=float32), 'easymisses': Array([0., 0.], dtype=float32), 'adversity': Array([0.  , 0.02], dtype=float32), 'adversarial_pickup_div_timesteps': Array([0.  , 0.02], dtype=float32), 'any_pickup_div_timesteps': Array([0.32, 0.32], dtype=float32), 'adversarial_pickup_div_all_pickup': Array([0.    , 0.0625], dtype=float32), 'own_pickup_div_timesteps': Array([0.32, 0.3 ], dtype=float32), 'nearpasses': Array([1.       , 0.9230769], dtype=float32)}\n"
     ]
    }
   ],
   "source": [
    "agent1_name = 'loqa_2i4vsulp'\n",
    "agent2_name = 'loqa_2i4vsulp'\n",
    "agent1_loader = named_agent_loaders[agent1_name]\n",
    "agent2_loader = named_agent_loaders[agent2_name]\n",
    "results, episode_logs = evaluate_these_agent_combinations(combinations=[(agent1_loader, agent2_loader)],\n",
    "                                  batch_size=1,\n",
    "                                  rng=jax.random.PRNGKey(42),\n",
    "                                  hp=hp,\n",
    "                                  for_instead_of_vmap=False,)"
   ],
   "metadata": {
    "collapsed": false,
    "ExecuteTime": {
     "end_time": "2024-02-25T07:49:35.492154Z",
     "start_time": "2024-02-25T07:30:06.145869Z"
    }
   },
   "id": "d6165f05d2c3c2f5",
   "execution_count": 86
  },
  {
   "cell_type": "code",
   "outputs": [],
   "source": [
    "episodes = episode_logs[(agent1_name, agent2_name)][0]"
   ],
   "metadata": {
    "collapsed": false,
    "ExecuteTime": {
     "end_time": "2024-02-24T07:02:45.548207Z",
     "start_time": "2024-02-24T07:02:45.530040Z"
    }
   },
   "id": "de293f45819731db",
   "execution_count": 34
  },
  {
   "cell_type": "code",
   "outputs": [],
   "source": [
    "import jax\n",
    "import time\n",
    "import matplotlib.pyplot as plt\n",
    "import matplotlib.image as mpimg\n",
    "from PIL import Image\n",
    "import io\n",
    "\n",
    "\n",
    "def buffer_plot_and_get(fig):\n",
    "    t = time.time()\n",
    "    buf = io.BytesIO()\n",
    "    fig.savefig(buf, bbox_inches='tight', dpi=80)\n",
    "    plt.close()\n",
    "    buf.seek(0)\n",
    "    image = Image.open(buf)\n",
    "    print(f'opening took {time.time() - t}')\n",
    "    return image\n",
    "\n",
    "\n",
    "def arrow_end_coords(start_x, start_y, action, arrow_length):\n",
    "    end_x, end_y = start_x, start_y\n",
    "\n",
    "    if action == 0:  # LEFT\n",
    "        end_x -= arrow_length\n",
    "    elif action == 1:  # RIGHT\n",
    "        end_x += arrow_length\n",
    "    elif action == 2:  # UP\n",
    "        end_y -= arrow_length\n",
    "    elif action == 3:  # DOWN\n",
    "        end_y += arrow_length\n",
    "\n",
    "    return end_x, end_y\n",
    "\n",
    "\n",
    "def plot_game(game, ax, info=None):\n",
    "    t = time.time()\n",
    "    width = game['games'].WIDTH\n",
    "    height = game['games'].HEIGHT\n",
    "    coin_position = game['coin_pos'][0], game['coin_pos'][1]\n",
    "    coin_owner = game['coin_owner']\n",
    "    player1_pos = game['player1_pos'][0], game['player1_pos'][1]\n",
    "    player2_pos = game['player2_pos'][0], game['player2_pos'][1]\n",
    "    # set the position of the coin\n",
    "    coin_x = coin_position[1]\n",
    "    coin_y = coin_position[0]\n",
    "    player1_y = player1_pos[0]\n",
    "    player1_x = player1_pos[1]\n",
    "    player2_y = player2_pos[0]\n",
    "    player2_x = player2_pos[1]\n",
    "    player1_action = game['act'][0]\n",
    "    player2_action = game['act'][1]\n",
    "\n",
    "    # create a figure and axis object  \n",
    "    ax.clear()\n",
    "        \n",
    "    # loop over the board and add the squares to the plot\n",
    "    for i in range(height):\n",
    "        for j in range(width):\n",
    "            ax.add_patch(plt.Rectangle((i, j), 1, 1, fill=False, color='black', linewidth=3.))\n",
    "\n",
    "    # add the coin to the plot\n",
    "    if coin_owner == 0:\n",
    "        ax.add_patch(plt.Circle((coin_x + 0.8, coin_y + 0.8), 0.2, fill=True, color='red'))\n",
    "    elif coin_owner == 1:\n",
    "        ax.add_patch(plt.Circle((coin_x + 0.8, coin_y + 0.8), 0.2, fill=True, color='blue'))\n",
    "\n",
    "    # load the player images\n",
    "    player1_img = mpimg.imread('/Users/miladaghajohari/PycharmProjects/extramodels/assets/player_1.png')\n",
    "    player2_img = mpimg.imread('/Users/miladaghajohari/PycharmProjects/extramodels/assets/player_2.png')\n",
    "    # red player\n",
    "    ax.imshow(player1_img, extent=[player1_x, player1_x + 0.4, player1_y, player1_y + 0.4], alpha=1.0)\n",
    "    ax.text(player1_x + 0.2, player1_y + 0.6, int(game['rew'][0]), color=\"black\", ha=\"center\", va=\"center\", fontsize=30)\n",
    "    # blue player\n",
    "    ax.imshow(player2_img, extent=[player2_x + 0.6, player2_x + 1.0, player2_y, player2_y + 0.4], alpha=1.0)\n",
    "    ax.text(player2_x + 0.8, player2_y + 0.6, int(game['rew'][1]), color=\"black\", ha=\"center\", va=\"center\", fontsize=30)\n",
    "\n",
    "    # Draw arrow for player 1's action\n",
    "    arrow_length = 0.2\n",
    "    arrow_width = 0.05\n",
    "    arrow_start_x = player1_x + 0.2\n",
    "    arrow_start_y = player1_y + 0.3\n",
    "    arrow_end_x, arrow_end_y = arrow_end_coords(arrow_start_x, arrow_start_y, player1_action, arrow_length)\n",
    "\n",
    "    ax.arrow(arrow_start_x, arrow_start_y, arrow_end_x - arrow_start_x, arrow_end_y - arrow_start_y,\n",
    "             head_width=arrow_width, head_length=arrow_width, fc='red', ec='purple', linewidth=3.)\n",
    "\n",
    "    # Draw arrow for player 2's action\n",
    "    arrow_start_x = player2_x + 0.8\n",
    "    arrow_start_y = player2_y + 0.3\n",
    "    arrow_end_x, arrow_end_y = arrow_end_coords(arrow_start_x, arrow_start_y, player2_action, arrow_length)\n",
    "\n",
    "    ax.arrow(arrow_start_x, arrow_start_y, arrow_end_x - arrow_start_x, arrow_end_y - arrow_start_y,\n",
    "             head_width=arrow_width, head_length=arrow_width, fc='blue', ec='purple', linewidth=3.)\n",
    "\n",
    "    # set the limits of the plot\n",
    "    ax.set_xlim(0, width)\n",
    "    ax.set_ylim(0, height)\n",
    "\n",
    "    # hide the ticks and axis labels\n",
    "    ax.set_xticks([])\n",
    "    ax.set_yticks([])\n",
    "    \n",
    "    if info:\n",
    "        time_step = info['time_step']\n",
    "        agent1_name = info['agent1']\n",
    "        agent2_name = info['agent2']\n",
    "        # ax.set_title(f'ًًRed:{agent1_name} vs. Blue:{agent2_name} | t: {time_step}',\n",
    "        #      fontsize=24, color='#34495e', fontweight='bold', fontname='Arial', \n",
    "        #      backgroundcolor='white', pad=10)\n",
    "        x_center = 0.5\n",
    "        y_position = 1.05 \n",
    "        ax.text(x_center - 0.2, y_position, f'{agent1_name}', color='red', ha='right', va='bottom', transform=ax.transAxes, size=20)\n",
    "        ax.text(x_center - 0.1, y_position, 'vs. ', color='black', ha='center', va='bottom', transform=ax.transAxes, size=20)\n",
    "        ax.text(x_center + 0., y_position, f'{agent2_name}', color='blue', ha='left', va='bottom', transform=ax.transAxes, size=20)\n",
    "        ax.text(x_center + 0.2, y_position, f'| t : {time_step}', color='black', ha='left', va='bottom', transform=ax.transAxes, size=20)\n",
    "\n",
    "\n",
    "    print(f'took {time.time() - t}.')\n",
    "    return fig\n"
   ],
   "metadata": {
    "collapsed": false,
    "ExecuteTime": {
     "end_time": "2024-02-25T08:13:38.957113Z",
     "start_time": "2024-02-25T08:13:38.946678Z"
    }
   },
   "id": "65d4765d0f7bf423",
   "execution_count": 122
  },
  {
   "cell_type": "code",
   "outputs": [
    {
     "name": "stdout",
     "output_type": "stream",
     "text": [
      "took 0.05212092399597168.\n"
     ]
    },
    {
     "data": {
      "text/plain": "<Figure size 400x400 with 1 Axes>",
      "image/png": "[encoded data removed]"
     },
     "metadata": {},
     "output_type": "display_data"
    }
   ],
   "source": [
    "episode = jax.tree_map(lambda x: x[0], episodes)\n",
    "t = 0\n",
    "game = jax.tree_map(lambda x: x[t], episode)\n",
    "fig, ax = plt.subplots(figsize=(4, 4))\n",
    "img = plot_game(game, ax=ax, info={'time_step': 0, 'agent1': 'loqa', 'agent2': 'loqa'})"
   ],
   "metadata": {
    "collapsed": false,
    "ExecuteTime": {
     "end_time": "2024-02-25T08:13:58.152238Z",
     "start_time": "2024-02-25T08:13:57.974287Z"
    }
   },
   "id": "b506a66f615db461",
   "execution_count": 124
  },
  {
   "cell_type": "code",
   "outputs": [
    {
     "name": "stdout",
     "output_type": "stream",
     "text": [
      "took 0.08039402961730957.\n",
      "took 0.061179161071777344.\n",
      "took 0.1362287998199463.\n",
      "took 0.05474400520324707.\n",
      "took 0.05901288986206055.\n",
      "took 0.058984994888305664.\n",
      "took 0.18194890022277832.\n",
      "took 0.27181005477905273.\n",
      "took 0.13611078262329102.\n",
      "took 0.08236908912658691.\n",
      "took 0.0994880199432373.\n",
      "took 0.08034825325012207.\n",
      "took 0.06539487838745117.\n",
      "took 0.06639289855957031.\n",
      "took 0.1022489070892334.\n",
      "took 0.059419870376586914.\n",
      "took 0.06839609146118164.\n",
      "took 0.05605602264404297.\n",
      "took 0.06247878074645996.\n",
      "took 0.055716753005981445.\n",
      "took 0.07378268241882324.\n",
      "took 0.09779000282287598.\n",
      "took 0.06734085083007812.\n",
      "took 0.052549123764038086.\n",
      "took 0.27958083152770996.\n",
      "took 0.0801241397857666.\n",
      "took 0.09662413597106934.\n",
      "took 0.07621622085571289.\n",
      "took 0.08266496658325195.\n",
      "took 0.10850119590759277.\n",
      "took 0.16106867790222168.\n",
      "took 0.09863400459289551.\n",
      "took 0.07920289039611816.\n",
      "took 0.07930493354797363.\n",
      "took 0.08124589920043945.\n",
      "took 0.0571138858795166.\n",
      "took 0.07824897766113281.\n",
      "took 0.0610048770904541.\n",
      "took 0.059967994689941406.\n",
      "took 0.05395102500915527.\n",
      "took 0.055969953536987305.\n",
      "took 0.053331851959228516.\n",
      "took 0.06835079193115234.\n",
      "took 0.05874300003051758.\n",
      "took 0.06257390975952148.\n",
      "took 0.051490068435668945.\n",
      "took 0.0649259090423584.\n",
      "took 0.05295419692993164.\n",
      "took 0.058895111083984375.\n",
      "took 0.050321102142333984.\n",
      "took 0.06055498123168945.\n",
      "took 0.05035114288330078.\n",
      "took 0.06633591651916504.\n",
      "took 0.052269935607910156.\n",
      "took 0.05491304397583008.\n",
      "took 0.05527615547180176.\n",
      "took 0.0544891357421875.\n",
      "took 0.05860185623168945.\n",
      "took 0.05610394477844238.\n",
      "took 0.0622401237487793.\n",
      "took 0.054491281509399414.\n",
      "took 0.06244301795959473.\n",
      "took 0.05292224884033203.\n",
      "took 0.05253100395202637.\n",
      "took 0.0600740909576416.\n",
      "took 0.05548214912414551.\n",
      "took 0.0563812255859375.\n",
      "took 0.054602861404418945.\n",
      "took 0.06494903564453125.\n",
      "took 0.07891988754272461.\n",
      "took 0.06125378608703613.\n",
      "took 0.05907082557678223.\n",
      "took 0.05472397804260254.\n",
      "took 0.06550884246826172.\n",
      "took 0.05512595176696777.\n",
      "took 0.05671405792236328.\n",
      "took 0.05778670310974121.\n",
      "took 0.07028794288635254.\n",
      "took 0.07094311714172363.\n",
      "took 0.08012080192565918.\n",
      "took 0.057080984115600586.\n",
      "took 0.06621575355529785.\n",
      "took 0.06961488723754883.\n",
      "took 0.0940561294555664.\n",
      "took 0.1096639633178711.\n",
      "took 0.08800482749938965.\n",
      "took 0.06975173950195312.\n",
      "took 0.06085991859436035.\n",
      "took 0.059155941009521484.\n",
      "took 0.06506800651550293.\n",
      "took 0.06569194793701172.\n",
      "took 0.05913496017456055.\n",
      "took 0.08867621421813965.\n",
      "took 0.08950185775756836.\n",
      "took 0.08029603958129883.\n",
      "took 0.07567095756530762.\n",
      "took 0.0662221908569336.\n",
      "took 0.06611895561218262.\n",
      "took 0.05892467498779297.\n",
      "took 0.07503700256347656.\n",
      "took 0.06900310516357422.\n",
      "took 0.08358311653137207.\n",
      "took 0.06002402305603027.\n",
      "took 0.060487985610961914.\n",
      "took 0.05867886543273926.\n"
     ]
    },
    {
     "data": {
      "text/plain": "<Figure size 400x400 with 1 Axes>",
      "image/png": "[encoded data removed]"
     },
     "metadata": {},
     "output_type": "display_data"
    }
   ],
   "source": [
    "import matplotlib.pyplot as plt\n",
    "import matplotlib.animation as animation\n",
    "from IPython.display import HTML\n",
    "\n",
    "# Set up the figure\n",
    "fig, ax = plt.subplots(figsize=(4, 4))\n",
    "\n",
    "def update(frame):\n",
    "    t = frame\n",
    "    game = jax.tree_map(lambda x: x[t], episode)\n",
    "    ax.clear()\n",
    "    plot_game(game, ax=ax, info={'time_step': t,\n",
    "                                 'agent1': 'loqa',\n",
    "                                 'agent2': 'pola'})\n",
    "    return ax\n",
    "\n",
    "ani = animation.FuncAnimation(fig, update, frames=range(51), blit=False)\n",
    "\n",
    "# To display the animation in a Jupyter notebook\n",
    "HTML(ani.to_jshtml())\n",
    "\n",
    "# Or to save the animation as a video file\n",
    "ani.save('./game_animation.mp4', writer='ffmpeg', fps=1)"
   ],
   "metadata": {
    "collapsed": false,
    "ExecuteTime": {
     "end_time": "2024-02-25T08:14:15.286852Z",
     "start_time": "2024-02-25T08:14:00.044718Z"
    }
   },
   "id": "3b6251fa85f6bcb4",
   "execution_count": 125
  },
  {
   "cell_type": "code",
   "outputs": [],
   "source": [],
   "metadata": {
    "collapsed": false,
    "ExecuteTime": {
     "start_time": "2024-02-25T07:00:50.194759Z"
    }
   },
   "id": "73cf9c4bc3392ae4"
  },
  {
   "cell_type": "code",
   "outputs": [],
   "source": [],
   "metadata": {
    "collapsed": false
   },
   "id": "1e89dc4419e5758b"
  }
 ],
 "metadata": {
  "kernelspec": {
   "display_name": "Python 3",
   "language": "python",
   "name": "python3"
  },
  "language_info": {
   "codemirror_mode": {
    "name": "ipython",
    "version": 2
   },
   "file_extension": ".py",
   "mimetype": "text/x-python",
   "name": "python",
   "nbconvert_exporter": "python",
   "pygments_lexer": "ipython2",
   "version": "2.7.6"
  }
 },
 "nbformat": 4,
 "nbformat_minor": 5
}
