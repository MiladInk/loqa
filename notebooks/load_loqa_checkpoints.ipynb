{
 "cells": [
  {
   "cell_type": "code",
   "execution_count": null,
   "id": "initial_id",
   "metadata": {
    "collapsed": true
   },
   "outputs": [],
   "source": [
    "import os\n",
    "import pickle\n",
    "\n",
    "import flax.core\n",
    "import jax.random\n",
    "import wandb"
   ]
  },
  {
   "cell_type": "code",
   "execution_count": 11,
   "outputs": [],
   "source": [
    "# Set the project and entity if necessary\n",
    "# entity is typically your username or team name\n",
    "entity = \"miladink\"\n",
    "project = \"loqa-ipd\"\n",
    "api = wandb.Api()"
   ],
   "metadata": {
    "collapsed": false,
    "ExecuteTime": {
     "end_time": "2023-09-27T07:11:26.853567Z",
     "start_time": "2023-09-27T07:11:26.836300Z"
    }
   },
   "id": "aa5f195d1fae5aca"
  },
  {
   "cell_type": "markdown",
   "source": [
    "# Load runs by tag"
   ],
   "metadata": {
    "collapsed": false
   },
   "id": "7579930ba97b81b9"
  },
  {
   "cell_type": "code",
   "execution_count": 12,
   "outputs": [
    {
     "name": "stdout",
     "output_type": "stream",
     "text": [
      "Run ID: 1abkzsx3\n",
      "Name: logical-wildflower-402\n",
      "Config: {'game': {'width': 3, 'height': 3, 'game_length': 50, 'gnumactions': 4}, 'seed': 51, 'actor': {'train': {'separate': 'disabled', 'advantage': 'TD0', 'clip_grad': {'mode': 'norm', 'max_norm': 1}, 'optimizer': 'adam', 'entropy_beta': 0.1, 'lr_loss_actor': 0.001}, 'inf_weight': 0.5, 'hidden_size': 128, 'layers_before_gru': 2}, 'reset': {'mode': 'disabled'}, 'qvalue': {'mode': 'mean', 'train': {'optimizer': 'adam', 'lr_loss_qvalue': 0.01, 'target_ema_gamma': 0.99}, 'hidden_size': 64, 'replay_buffer': {'mode': 'disabled', 'capacity': 1000}, 'layers_before_gru': 2}, 'agent_0': 'loqa', 'agent_1': 'loqa', 'save_dir': '/home/mila/a/aghajohm/scratch/loqa', 'batch_size': 512, 'eval_every': 100, 'save_every': 1000, 'just_self_play': True, 'op_softmax_temp': 1, 'reward_discount': 0.96, 'agent_replay_buffer': {'mode': 'disabled', 'capacity': 10000, 'update_freq': 10, 'cur_agent_frac': 0}, 'differentiable_opponent': {'method': 'loaded-dice', 'discount': 0.9, 'exclude_after_step': 1000000000.0, 'differentiable_current_reward': False}, 'opponent_differentiation_weight': 1}\n",
      "Summary: {'easymisses_1': 0.00334738427773118, 'any_pickup_div_timesteps_0': 0.3216796815395355, 'always_cooperate_0_adversarial_pickup_div_timesteps_a': 0.11308593302965164, 'adversity_1': 0.006601562257856131, 'slurm/cluster_name': 'mila', 'slurm/cpus_per_node': '4', 'loss_agent_0_qvalue': 0.02557825669646263, 'always_defect_0_easymisses_d': 0, 'adversarial_pickup_div_timesteps_1': 0.006601562257856131, 'any_pickup_div_timesteps_1': 0.3206250071525574, 'always_defect_0_adversarial_pickup_div_all_pickup_a': 0.4642678499221802, 'always_cooperate_0_adversity_d': 0, 'always_defect_0_mean_rewards_a': -0.08074218779802322, 'always_cooperate_0_adversarial_pickup_div_all_pickup_d': 0, 'slurm/nodelist': 'cn-g017', 'action_entropy_0': 1.385629177093506, 'own_pickup_div_timesteps_1': 0.3140234351158142, 'always_defect_0_nearpasses_d': 0, 'always_defect_0_any_pickup_div_timesteps_d': 0.6383984088897705, '_runtime': 1378.1842050552368, 'adversity_0': 0.006640624720603228, 'mean_rewards_1': 0.3073437511920929, 'adversarial_pickup_div_all_pickup_1': 0.020589668303728104, 'always_defect_0_own_pickup_div_timesteps_d': 0.32499998807907104, 'always_cooperate_0_adversarial_pickup_div_all_pickup_a': 0.24632008373737335, 'nearpasses_0': 0.9617977738380432, 'own_pickup_div_timesteps_0': 0.3150390684604645, 'always_defect_0_nearpasses_a': 0.1663455367088318, 'always_defect_0_adversity_a': 0.2535156309604645, '_timestamp': 1695798652.37148, 'slurm/job_user': 'aghajohm', 'slurm/job_partition': 'long', 'always_cooperate_0_mean_rewards_a': 0.4591015577316284, 'always_defect_0_own_pickup_div_timesteps_a': 0.2925390601158142, 'mean_rewards_0': 0.3084765672683716, 'grad_agent0_norm': 0.13243193924427032, 'always_cooperate_0_nearpasses_d': 1, 'always_cooperate_0_easymisses_a': 0.028728071600198746, 'always_cooperate_0_any_pickup_div_timesteps_a': 0.4591015577316284, 'always_cooperate_0_adversarial_pickup_div_timesteps_d': 0, 'iteration': 15200, 'grad_opponent0_norm': 0.4424108266830444, 'always_defect_0_easymisses_a': 0.018093613907694817, 'always_defect_0_adversarial_pickup_div_timesteps_d': 0.31339842081069946, '_step': 15200, 'walltime': 1375.2466685771942, 'agent0_entropy': 0.1797264814376831, 'always_cooperate_0_own_pickup_div_timesteps_d': 0.2930859327316284, 'always_defect_0_adversarial_pickup_div_all_pickup_d': 0.4909135103225708, 'mean_pickup_rewards_0': 0.4845379590988159, 'mean_pickup_rewards_1': 0.48275861144065857, 'always_defect_0_any_pickup_div_timesteps_a': 0.5460546612739563, 'always_cooperate_0_mean_rewards_d': 0.06691405922174454, 'adversarial_pickup_div_timesteps_0': 0.006640624720603228, 'always_cooperate_0_own_pickup_div_timesteps_a': 0.3460156321525574, 'easymisses_0': 0.002473716624081135, 'slurm/array_task_id': None, 'always_defect_0_adversity_d': 0.31339842081069946, 'always_cooperate_0_nearpasses_a': 0.5199005007743835, 'adversarial_pickup_div_all_pickup_0': 0.02064359374344349, 'nearpasses_1': 0.9615471959114076, 'always_cooperate_0_adversity_a': 0.11308593302965164, 'always_defect_0_mean_rewards_d': 0.1313671916723251, 'always_defect_0_adversarial_pickup_div_timesteps_a': 0.2535156309604645, 'slurm/num_nodes': '1', 'always_cooperate_0_easymisses_d': 0, 'always_cooperate_0_any_pickup_div_timesteps_d': 0.2930859327316284, 'slurm/job_id': '3677559', 'action_entropy_1': 1.3860628604888916}\n",
      "Notes: None\n",
      "Tags: ['coin', 'loqa_10_seeds_v1_rb_ablation']\n",
      "==================================================\n",
      "Run ID: ejpsvuwk\n",
      "Name: cool-paper-398\n",
      "Config: {'game': {'width': 3, 'height': 3, 'game_length': 50, 'gnumactions': 4}, 'seed': 47, 'actor': {'train': {'separate': 'disabled', 'advantage': 'TD0', 'clip_grad': {'mode': 'norm', 'max_norm': 1}, 'optimizer': 'adam', 'entropy_beta': 0.1, 'lr_loss_actor': 0.001}, 'inf_weight': 0.5, 'hidden_size': 128, 'layers_before_gru': 2}, 'reset': {'mode': 'disabled'}, 'qvalue': {'mode': 'mean', 'train': {'optimizer': 'adam', 'lr_loss_qvalue': 0.01, 'target_ema_gamma': 0.99}, 'hidden_size': 64, 'replay_buffer': {'mode': 'disabled', 'capacity': 1000}, 'layers_before_gru': 2}, 'agent_0': 'loqa', 'agent_1': 'loqa', 'save_dir': '/home/mila/a/aghajohm/scratch/loqa', 'batch_size': 512, 'eval_every': 100, 'save_every': 1000, 'just_self_play': True, 'op_softmax_temp': 1, 'reward_discount': 0.96, 'agent_replay_buffer': {'mode': 'disabled', 'capacity': 10000, 'update_freq': 10, 'cur_agent_frac': 0}, 'differentiable_opponent': {'method': 'loaded-dice', 'discount': 0.9, 'exclude_after_step': 1000000000.0, 'differentiable_current_reward': False}, 'opponent_differentiation_weight': 1}\n",
      "Summary: {'grad_agent0_norm': 0.3696841597557068, 'loss_agent_0_qvalue': 0.13723036646842957, 'always_defect_0_easymisses_a': 0.000968992244452238, 'always_cooperate_0_own_pickup_div_timesteps_a': 0.34593749046325684, 'walltime': 1561.545731306076, '_timestamp': 1695798655.4702475, 'always_defect_0_adversarial_pickup_div_timesteps_d': 0.3229687511920929, 'mean_pickup_rewards_1': 0.26525065302848816, 'any_pickup_div_timesteps_1': 0.4766796827316284, 'own_pickup_div_timesteps_1': 0.3319140672683716, 'always_defect_0_adversarial_pickup_div_all_pickup_d': 0.49420201778411865, 'slurm/job_partition': 'long', 'adversarial_pickup_div_all_pickup_0': 0.30756646394729614, 'mean_pickup_rewards_0': 0.2726140022277832, 'always_defect_0_nearpasses_a': 0.06849644333124161, 'always_cooperate_0_adversity_a': 0.01445312425494194, 'always_cooperate_0_easymisses_d': 0, 'nearpasses_1': 0.4711758196353912, 'slurm/cluster_name': 'mila', 'always_cooperate_0_adversarial_pickup_div_all_pickup_a': 0.04010405391454697, 'always_defect_0_adversity_a': 0.30226561427116394, 'always_defect_0_easymisses_d': 0, 'always_cooperate_0_any_pickup_div_timesteps_a': 0.3603906035423279, 'always_defect_0_adversarial_pickup_div_all_pickup_a': 0.4840485155582428, 'agent0_entropy': 0.43153244256973267, 'action_entropy_0': 1.3843164443969729, 'slurm/nodelist': 'cn-g022', 'adversarial_pickup_div_all_pickup_1': 0.30369582772254944, 'always_defect_0_any_pickup_div_timesteps_d': 0.653515636920929, 'always_defect_0_own_pickup_div_timesteps_d': 0.33054685592651367, 'adversity_1': 0.14476561546325684, 'nearpasses_0': 0.46772366762161255, 'action_entropy_1': 1.3837904930114746, 'mean_rewards_0': 0.1880078017711639, 'mean_rewards_1': 0.18292967975139615, '_step': 16900, 'always_cooperate_0_own_pickup_div_timesteps_d': 0.3370312452316284, 'easymisses_1': 0.0018794784555211663, 'always_cooperate_0_nearpasses_d': 1, 'always_cooperate_0_mean_rewards_a': 0.3603906035423279, 'adversarial_pickup_div_timesteps_1': 0.14476561546325684, 'always_defect_0_any_pickup_div_timesteps_a': 0.6244531273841858, 'always_defect_0_own_pickup_div_timesteps_a': 0.32218748331069946, 'always_cooperate_0_adversarial_pickup_div_all_pickup_d': 0, 'own_pickup_div_timesteps_0': 0.3306640684604645, 'always_defect_0_mean_rewards_d': 0.04898437485098839, 'slurm/array_task_id': None, 'any_pickup_div_timesteps_0': 0.4775390625, 'always_cooperate_0_easymisses_a': 0.0006770480540581048, 'always_cooperate_0_any_pickup_div_timesteps_d': 0.3370312452316284, 'iteration': 16900, 'slurm/num_nodes': '1', 'always_cooperate_0_mean_rewards_d': 0.30812498927116394, 'adversarial_pickup_div_timesteps_0': 0.14687499403953552, 'always_cooperate_0_adversarial_pickup_div_timesteps_d': 0, 'slurm/cpus_per_node': '4', 'always_defect_0_mean_rewards_a': -0.021484375, 'always_defect_0_adversity_d': 0.3229687511920929, 'always_defect_0_nearpasses_d': 0, 'always_cooperate_0_adversity_d': 0, 'always_cooperate_0_nearpasses_a': 0.9411577582359314, 'always_defect_0_adversarial_pickup_div_timesteps_a': 0.30226561427116394, 'easymisses_0': 0.0014155951794236898, 'grad_opponent0_norm': 0.5412664413452148, 'slurm/job_id': '3677555', 'slurm/job_user': 'aghajohm', 'always_cooperate_0_adversarial_pickup_div_timesteps_a': 0.01445312425494194, '_runtime': 1564.2618198394775, 'adversity_0': 0.14687499403953552}\n",
      "Notes: None\n",
      "Tags: ['coin', 'loqa_10_seeds_v1_rb_ablation']\n",
      "==================================================\n",
      "Run ID: d3g7n3wp\n",
      "Name: amber-durian-398\n",
      "Config: {'game': {'width': 3, 'height': 3, 'game_length': 50, 'gnumactions': 4}, 'seed': 48, 'actor': {'train': {'separate': 'disabled', 'advantage': 'TD0', 'clip_grad': {'mode': 'norm', 'max_norm': 1}, 'optimizer': 'adam', 'entropy_beta': 0.1, 'lr_loss_actor': 0.001}, 'inf_weight': 0.5, 'hidden_size': 128, 'layers_before_gru': 2}, 'reset': {'mode': 'disabled'}, 'qvalue': {'mode': 'mean', 'train': {'optimizer': 'adam', 'lr_loss_qvalue': 0.01, 'target_ema_gamma': 0.99}, 'hidden_size': 64, 'replay_buffer': {'mode': 'disabled', 'capacity': 1000}, 'layers_before_gru': 2}, 'agent_0': 'loqa', 'agent_1': 'loqa', 'save_dir': '/home/mila/a/aghajohm/scratch/loqa', 'batch_size': 512, 'eval_every': 100, 'save_every': 1000, 'just_self_play': True, 'op_softmax_temp': 1, 'reward_discount': 0.96, 'agent_replay_buffer': {'mode': 'disabled', 'capacity': 10000, 'update_freq': 10, 'cur_agent_frac': 0}, 'differentiable_opponent': {'method': 'loaded-dice', 'discount': 0.9, 'exclude_after_step': 1000000000.0, 'differentiable_current_reward': False}, 'opponent_differentiation_weight': 1}\n",
      "Summary: {'mean_rewards_0': 0.24335937201976776, 'always_cooperate_0_adversarial_pickup_div_timesteps_d': 0, 'loss_agent_0_qvalue': 0.10828971117734908, '_timestamp': 1695798654.387984, 'easymisses_1': 0.0025718961842358112, 'mean_rewards_1': 0.24308593571186063, 'always_defect_0_any_pickup_div_timesteps_d': 0.6582421660423279, 'always_cooperate_0_own_pickup_div_timesteps_a': 0.3444531261920929, 'always_defect_0_adversarial_pickup_div_all_pickup_d': 0.4975965917110443, 'nearpasses_0': 0.6294872164726257, 'mean_pickup_rewards_1': 0.3567006587982178, 'always_defect_0_adversity_d': 0.3275390565395355, 'adversarial_pickup_div_all_pickup_0': 0.2128913551568985, 'always_cooperate_0_adversarial_pickup_div_timesteps_a': 0.0068359375, 'action_entropy_1': 1.382761836051941, 'always_defect_0_nearpasses_d': 0, 'always_defect_0_mean_rewards_d': 0.026523437350988388, 'always_cooperate_0_mean_rewards_d': 0.32722654938697815, 'nearpasses_1': 0.6311932802200317, 'slurm/job_id': '3677556', 'own_pickup_div_timesteps_0': 0.33390623331069946, 'always_cooperate_0_mean_rewards_a': 0.3512890636920929, 'always_defect_0_own_pickup_div_timesteps_d': 0.33070310950279236, 'always_defect_0_adversarial_pickup_div_timesteps_a': 0.3158593773841858, 'any_pickup_div_timesteps_1': 0.4237109422683716, 'always_cooperate_0_adversity_a': 0.0068359375, 'always_cooperate_0_easymisses_a': 0.0021500508300960064, 'always_defect_0_adversity_a': 0.3158593773841858, 'adversarial_pickup_div_all_pickup_1': 0.21342305839061737, 'always_cooperate_0_any_pickup_div_timesteps_d': 0.34089842438697815, 'always_defect_0_easymisses_d': 0, 'always_defect_0_nearpasses_a': 0.03138476237654686, 'adversarial_pickup_div_timesteps_0': 0.09031249582767488, 'always_cooperate_0_nearpasses_d': 1, '_runtime': 1563.197287082672, 'adversity_0': 0.09031249582767488, 'own_pickup_div_timesteps_1': 0.3332812488079071, 'always_defect_0_easymisses_a': 0.0005964452284388244, 'slurm/job_user': 'aghajohm', 'slurm/job_partition': 'long', 'any_pickup_div_timesteps_0': 0.4242187440395355, 'grad_opponent0_norm': 0.4858697950839996, 'always_defect_0_own_pickup_div_timesteps_a': 0.3272656202316284, 'always_cooperate_0_any_pickup_div_timesteps_a': 0.3512890636920929, 'always_cooperate_0_adversarial_pickup_div_all_pickup_a': 0.01945958100259304, 'always_cooperate_0_adversarial_pickup_div_all_pickup_d': 0, 'adversity_1': 0.09042968600988388, 'easymisses_0': 0.00245069433003664, 'slurm/num_nodes': '1', 'adversarial_pickup_div_timesteps_1': 0.09042968600988388, 'always_defect_0_adversarial_pickup_div_timesteps_d': 0.3275390565395355, 'agent0_entropy': 0.5011484622955322, 'slurm/cluster_name': 'mila', 'always_cooperate_0_easymisses_d': 0, 'slurm/array_task_id': None, 'mean_pickup_rewards_0': 0.3571019172668457, 'always_cooperate_0_nearpasses_a': 0.9698016047477722, 'always_defect_0_adversarial_pickup_div_all_pickup_a': 0.4911321699619293, 'walltime': 1560.479815244675, 'slurm/nodelist': 'cn-g022', 'grad_agent0_norm': 0.6274477243423462, '_step': 17400, 'iteration': 17400, 'always_defect_0_any_pickup_div_timesteps_a': 0.6431249976158142, 'always_cooperate_0_adversity_d': 0, 'always_defect_0_mean_rewards_a': -0.011953124776482582, 'action_entropy_0': 1.3829565048217771, 'slurm/cpus_per_node': '4', 'always_cooperate_0_own_pickup_div_timesteps_d': 0.34089842438697815}\n",
      "Notes: None\n",
      "Tags: ['coin', 'loqa_10_seeds_v1_rb_ablation']\n",
      "==================================================\n",
      "Run ID: 375wzono\n",
      "Name: wise-resonance-398\n",
      "Config: {'game': {'width': 3, 'height': 3, 'game_length': 50, 'gnumactions': 4}, 'seed': 50, 'actor': {'train': {'separate': 'disabled', 'advantage': 'TD0', 'clip_grad': {'mode': 'norm', 'max_norm': 1}, 'optimizer': 'adam', 'entropy_beta': 0.1, 'lr_loss_actor': 0.001}, 'inf_weight': 0.5, 'hidden_size': 128, 'layers_before_gru': 2}, 'reset': {'mode': 'disabled'}, 'qvalue': {'mode': 'mean', 'train': {'optimizer': 'adam', 'lr_loss_qvalue': 0.01, 'target_ema_gamma': 0.99}, 'hidden_size': 64, 'replay_buffer': {'mode': 'disabled', 'capacity': 1000}, 'layers_before_gru': 2}, 'agent_0': 'loqa', 'agent_1': 'loqa', 'save_dir': '/home/mila/a/aghajohm/scratch/loqa', 'batch_size': 512, 'eval_every': 100, 'save_every': 1000, 'just_self_play': True, 'op_softmax_temp': 1, 'reward_discount': 0.96, 'agent_replay_buffer': {'mode': 'disabled', 'capacity': 10000, 'update_freq': 10, 'cur_agent_frac': 0}, 'differentiable_opponent': {'method': 'loaded-dice', 'discount': 0.9, 'exclude_after_step': 1000000000.0, 'differentiable_current_reward': False}, 'opponent_differentiation_weight': 1}\n",
      "Summary: {'always_defect_0_adversity_d': 0.31593748927116394, 'always_defect_0_easymisses_a': 0.01701348088681698, 'adversarial_pickup_div_timesteps_1': 0.011289061978459358, 'always_cooperate_0_any_pickup_div_timesteps_d': 0.2900390625, 'slurm/cpus_per_node': '4', 'always_defect_0_adversity_a': 0.2752734422683716, 'always_defect_0_any_pickup_div_timesteps_d': 0.639453113079071, 'always_defect_0_own_pickup_div_timesteps_a': 0.2933984398841858, '_step': 16900, 'slurm/nodelist': 'cn-g022', 'slurm/job_partition': 'long', 'always_defect_0_easymisses_d': 0, 'always_defect_0_adversarial_pickup_div_all_pickup_d': 0.4940745234489441, 'adversity_0': 0.011562500149011612, 'always_cooperate_0_easymisses_d': 0, 'always_cooperate_0_nearpasses_d': 1, 'always_cooperate_0_own_pickup_div_timesteps_a': 0.3382812440395355, 'mean_pickup_rewards_1': 0.47388699650764465, 'always_cooperate_0_adversity_d': 0, 'always_defect_0_adversarial_pickup_div_timesteps_d': 0.31593748927116394, 'walltime': 1559.7499043941498, 'mean_rewards_0': 0.3038671910762787, 'mean_rewards_1': 0.30269530415534973, 'action_entropy_1': 1.3861600160598757, 'slurm/array_task_id': None, 'agent0_entropy': 0.18256612122058868, 'action_entropy_0': 1.3862398862838743, 'always_defect_0_nearpasses_d': 0, 'always_cooperate_0_own_pickup_div_timesteps_d': 0.2900390625, 'always_cooperate_0_adversity_a': 0.10749999433755876, 'always_cooperate_0_any_pickup_div_timesteps_a': 0.44578123092651367, 'always_cooperate_0_adversarial_pickup_div_all_pickup_a': 0.2411496639251709, 'loss_agent_0_qvalue': 0.02890981361269951, 'easymisses_0': 0.0024749410804361105, 'nearpasses_0': 0.9354557394981384, 'grad_agent0_norm': 0.1256372332572937, 'easymisses_1': 0.0017356807366013527, 'grad_opponent0_norm': 0.46472594141960144, 'always_defect_0_any_pickup_div_timesteps_a': 0.5686718821525574, 'always_defect_0_own_pickup_div_timesteps_d': 0.3235156238079071, '_runtime': 1562.4807529449463, 'any_pickup_div_timesteps_0': 0.3264453113079071, 'any_pickup_div_timesteps_1': 0.32582029700279236, 'adversarial_pickup_div_all_pickup_0': 0.03541940823197365, 'always_cooperate_0_adversarial_pickup_div_timesteps_d': 0, 'nearpasses_1': 0.9385105967521667, 'always_cooperate_0_easymisses_a': 0.05116686969995499, 'adversarial_pickup_div_all_pickup_1': 0.03464812412858009, 'always_defect_0_adversarial_pickup_div_all_pickup_a': 0.4840637743473053, 'always_cooperate_0_adversarial_pickup_div_all_pickup_d': 0, 'adversity_1': 0.011289061978459358, 'mean_pickup_rewards_0': 0.4757216274738312, 'always_defect_0_nearpasses_a': 0.10774879902601242, 'always_cooperate_0_nearpasses_a': 0.5318135023117065, 'slurm/job_id': '3677558', 'slurm/cluster_name': 'mila', 'always_cooperate_0_mean_rewards_d': 0.07503905892372131, 'adversarial_pickup_div_timesteps_0': 0.011562500149011612, 'always_cooperate_0_adversarial_pickup_div_timesteps_a': 0.10749999433755876, 'iteration': 16900, 'slurm/num_nodes': '1', 'always_defect_0_mean_rewards_a': -0.0632031261920929, 'always_defect_0_mean_rewards_d': 0.08890625089406967, 'always_cooperate_0_mean_rewards_a': 0.44578123092651367, '_timestamp': 1695798653.6743948, 'slurm/job_user': 'aghajohm', 'own_pickup_div_timesteps_0': 0.3148828148841858, 'own_pickup_div_timesteps_1': 0.31453123688697815, 'always_defect_0_adversarial_pickup_div_timesteps_a': 0.2752734422683716}\n",
      "Notes: None\n",
      "Tags: ['coin', 'loqa_10_seeds_v1_rb_ablation']\n",
      "==================================================\n",
      "Run ID: 2zpspi7d\n",
      "Name: still-river-399\n",
      "Config: {'game': {'width': 3, 'height': 3, 'game_length': 50, 'gnumactions': 4}, 'seed': 49, 'actor': {'train': {'separate': 'disabled', 'advantage': 'TD0', 'clip_grad': {'mode': 'norm', 'max_norm': 1}, 'optimizer': 'adam', 'entropy_beta': 0.1, 'lr_loss_actor': 0.001}, 'inf_weight': 0.5, 'hidden_size': 128, 'layers_before_gru': 2}, 'reset': {'mode': 'disabled'}, 'qvalue': {'mode': 'mean', 'train': {'optimizer': 'adam', 'lr_loss_qvalue': 0.01, 'target_ema_gamma': 0.99}, 'hidden_size': 64, 'replay_buffer': {'mode': 'disabled', 'capacity': 1000}, 'layers_before_gru': 2}, 'agent_0': 'loqa', 'agent_1': 'loqa', 'save_dir': '/home/mila/a/aghajohm/scratch/loqa', 'batch_size': 512, 'eval_every': 100, 'save_every': 1000, 'just_self_play': True, 'op_softmax_temp': 1, 'reward_discount': 0.96, 'agent_replay_buffer': {'mode': 'disabled', 'capacity': 10000, 'update_freq': 10, 'cur_agent_frac': 0}, 'differentiable_opponent': {'method': 'loaded-dice', 'discount': 0.9, 'exclude_after_step': 1000000000.0, 'differentiable_current_reward': False}, 'opponent_differentiation_weight': 1}\n",
      "Summary: {'walltime': 1558.4604291915894, 'slurm/job_id': '3677557', 'slurm/job_partition': 'long', 'always_cooperate_0_easymisses_a': 0.04464574530720711, 'adversarial_pickup_div_all_pickup_0': 0.07246711105108261, 'always_defect_0_any_pickup_div_timesteps_a': 0.5833984017372131, 'iteration': 17200, 'always_defect_0_easymisses_d': 0, 'slurm/cpus_per_node': '4', 'adversarial_pickup_div_timesteps_1': 0.02449218742549419, 'always_defect_0_any_pickup_div_timesteps_d': 0.6489452719688416, 'always_cooperate_0_own_pickup_div_timesteps_d': 0.28414061665534973, '_timestamp': 1695798652.3714178, 'easymisses_1': 0.005201882682740688, 'mean_pickup_rewards_0': 0.4525306820869446, 'any_pickup_div_timesteps_0': 0.33851560950279236, 'always_defect_0_adversarial_pickup_div_all_pickup_d': 0.4958766996860504, 'adversarial_pickup_div_timesteps_0': 0.024531248956918716, 'adversity_1': 0.02449218742549419, 'easymisses_0': 0.004951721057295799, 'slurm/job_user': 'aghajohm', 'action_entropy_1': 1.3859679698944092, 'always_defect_0_adversity_a': 0.2866796851158142, 'always_defect_0_nearpasses_d': 0, 'always_cooperate_0_mean_rewards_a': 0.4860156178474426, 'any_pickup_div_timesteps_1': 0.33824217319488525, 'always_cooperate_0_mean_rewards_d': 0.004218749701976776, 'always_cooperate_0_adversarial_pickup_div_timesteps_d': 0, 'mean_rewards_0': 0.28953123092651367, 'always_cooperate_0_any_pickup_div_timesteps_d': 0.28414061665534973, 'action_entropy_0': 1.3858473300933838, 'always_defect_0_adversarial_pickup_div_timesteps_d': 0.32179686427116394, 'always_cooperate_0_adversarial_pickup_div_all_pickup_d': 0, 'always_defect_0_adversarial_pickup_div_all_pickup_a': 0.49139603972435, 'nearpasses_1': 0.8627708554267883, 'loss_agent_0_qvalue': 0.07070376724004745, 'mean_pickup_rewards_1': 0.45198121666908264, 'always_cooperate_0_adversity_d': 0, 'always_defect_0_mean_rewards_d': 0.07558593899011612, 'always_cooperate_0_nearpasses_d': 1, 'always_defect_0_own_pickup_div_timesteps_a': 0.2967187464237213, 'always_cooperate_0_adversarial_pickup_div_timesteps_a': 0.13996092975139618, 'slurm/cluster_name': 'mila', 'slurm/array_task_id': None, 'always_defect_0_nearpasses_a': 0.09873510897159576, '_step': 17200, '_runtime': 1561.1634628772736, 'always_cooperate_0_easymisses_d': 0, 'always_cooperate_0_nearpasses_a': 0.42050784826278687, 'always_defect_0_own_pickup_div_timesteps_d': 0.3271484375, 'always_cooperate_0_own_pickup_div_timesteps_a': 0.34605467319488525, 'slurm/num_nodes': '1', 'own_pickup_div_timesteps_1': 0.3137499988079071, 'grad_opponent0_norm': 0.4319787621498108, 'always_cooperate_0_adversarial_pickup_div_all_pickup_a': 0.2879762351512909, 'always_defect_0_adversarial_pickup_div_timesteps_a': 0.2866796851158142, 'agent0_entropy': 0.175693541765213, 'mean_rewards_1': 0.2891796827316284, 'slurm/nodelist': 'cn-g022', 'grad_agent0_norm': 0.2405133843421936, 'own_pickup_div_timesteps_0': 0.31398436427116394, 'always_defect_0_adversity_d': 0.32179686427116394, 'always_defect_0_easymisses_a': 0.013121996074914932, 'adversity_0': 0.024531248956918716, 'nearpasses_0': 0.8614298105239868, 'always_cooperate_0_adversity_a': 0.13996092975139618, 'always_cooperate_0_any_pickup_div_timesteps_a': 0.4860156178474426, 'always_defect_0_mean_rewards_a': -0.06019531190395355, 'adversarial_pickup_div_all_pickup_1': 0.0724102109670639}\n",
      "Notes: None\n",
      "Tags: ['coin', 'loqa_10_seeds_v1_rb_ablation']\n",
      "==================================================\n",
      "Run ID: 3tocppgh\n",
      "Name: copper-leaf-397\n",
      "Config: {'game': {'width': 3, 'height': 3, 'game_length': 50, 'gnumactions': 4}, 'seed': 46, 'actor': {'train': {'separate': 'disabled', 'advantage': 'TD0', 'clip_grad': {'mode': 'norm', 'max_norm': 1}, 'optimizer': 'adam', 'entropy_beta': 0.1, 'lr_loss_actor': 0.001}, 'inf_weight': 0.5, 'hidden_size': 128, 'layers_before_gru': 2}, 'reset': {'mode': 'disabled'}, 'qvalue': {'mode': 'mean', 'train': {'optimizer': 'adam', 'lr_loss_qvalue': 0.01, 'target_ema_gamma': 0.99}, 'hidden_size': 64, 'replay_buffer': {'mode': 'disabled', 'capacity': 1000}, 'layers_before_gru': 2}, 'agent_0': 'loqa', 'agent_1': 'loqa', 'save_dir': '/home/mila/a/aghajohm/scratch/loqa', 'batch_size': 512, 'eval_every': 100, 'save_every': 1000, 'just_self_play': True, 'op_softmax_temp': 1, 'reward_discount': 0.96, 'agent_replay_buffer': {'mode': 'disabled', 'capacity': 10000, 'update_freq': 10, 'cur_agent_frac': 0}, 'differentiable_opponent': {'method': 'loaded-dice', 'discount': 0.9, 'exclude_after_step': 1000000000.0, 'differentiable_current_reward': False}, 'opponent_differentiation_weight': 1}\n",
      "Summary: {'always_cooperate_0_mean_rewards_a': 0.419257789850235, 'always_defect_0_own_pickup_div_timesteps_d': 0.3294921815395355, 'always_cooperate_0_adversarial_pickup_div_all_pickup_a': 0.2127084732055664, 'iteration': 16400, 'always_defect_0_easymisses_a': 0.0037657921202480793, 'always_cooperate_0_nearpasses_a': 0.6081359386444092, 'mean_rewards_1': 0.2504296898841858, 'always_defect_0_adversity_a': 0.3119531273841858, 'always_cooperate_0_adversarial_pickup_div_timesteps_d': 0, '_runtime': 1562.3210866451263, 'nearpasses_1': 0.6841325759887695, 'always_cooperate_0_adversity_a': 0.08917968720197678, 'always_cooperate_0_adversity_d': 0, 'always_defect_0_adversarial_pickup_div_timesteps_a': 0.3119531273841858, 'slurm/nodelist': 'cn-g028', 'any_pickup_div_timesteps_1': 0.3835546672344208, 'always_defect_0_nearpasses_d': 0, 'nearpasses_0': 0.6857247948646545, 'always_defect_0_any_pickup_div_timesteps_d': 0.6557812094688416, 'always_cooperate_0_mean_rewards_d': 0.10562499612569808, 'always_defect_0_any_pickup_div_timesteps_a': 0.6323046684265137, 'mean_pickup_rewards_0': 0.38722601532936096, 'mean_pickup_rewards_1': 0.38922953605651855, 'always_defect_0_easymisses_d': 0, 'always_defect_0_adversity_d': 0.3262890577316284, 'adversarial_pickup_div_timesteps_1': 0.06664062291383743, 'always_cooperate_0_adversarial_pickup_div_all_pickup_d': 0, 'agent0_entropy': 0.11712922155857086, 'loss_agent_0_qvalue': 0.04472033306956291, 'slurm/job_partition': 'long', 'any_pickup_div_timesteps_0': 0.3824218809604645, 'adversity_0': 0.06656249612569809, 'slurm/cluster_name': 'mila', 'grad_opponent0_norm': 0.3203865885734558, 'adversarial_pickup_div_all_pickup_1': 0.1737447828054428, 'always_cooperate_0_any_pickup_div_timesteps_a': 0.419257789850235, 'always_cooperate_0_own_pickup_div_timesteps_a': 0.330078125, '_timestamp': 1695798651.3778126, 'action_entropy_1': 1.3857961893081665, 'always_cooperate_0_easymisses_a': 0.09217877686023712, 'adversarial_pickup_div_timesteps_0': 0.06656249612569809, 'adversarial_pickup_div_all_pickup_0': 0.17405515909194946, 'always_defect_0_own_pickup_div_timesteps_a': 0.3203515410423279, 'grad_agent0_norm': 0.14790450036525726, 'own_pickup_div_timesteps_1': 0.31691405177116394, 'always_defect_0_nearpasses_a': 0.039335981011390686, 'slurm/num_nodes': '1', 'always_defect_0_adversarial_pickup_div_all_pickup_d': 0.49755778908729553, 'slurm/job_id': '3677554', 'mean_rewards_0': 0.2491406202316284, 'slurm/array_task_id': None, 'slurm/cpus_per_node': '4', 'always_cooperate_0_nearpasses_d': 1, '_step': 16400, 'easymisses_0': 0.0035736290737986565, 'easymisses_1': 0.0044177197851240635, 'always_cooperate_0_any_pickup_div_timesteps_d': 0.28398436307907104, 'always_cooperate_0_own_pickup_div_timesteps_d': 0.28398436307907104, 'adversity_1': 0.06664062291383743, 'action_entropy_0': 1.385906219482422, 'always_defect_0_adversarial_pickup_div_all_pickup_a': 0.493358850479126, 'own_pickup_div_timesteps_0': 0.3158593773841858, 'always_defect_0_adversarial_pickup_div_timesteps_d': 0.3262890577316284, 'always_cooperate_0_adversarial_pickup_div_timesteps_a': 0.08917968720197678, 'always_defect_0_mean_rewards_d': 0.03187499940395355, 'always_cooperate_0_easymisses_d': 0, 'walltime': 1558.420032262802, 'slurm/job_user': 'aghajohm', 'always_defect_0_mean_rewards_a': -0.020273437723517414}\n",
      "Notes: None\n",
      "Tags: ['coin', 'loqa_10_seeds_v1_rb_ablation']\n",
      "==================================================\n",
      "Run ID: 3o6xocrm\n",
      "Name: twilight-snowball-396\n",
      "Config: {'game': {'width': 3, 'height': 3, 'game_length': 50, 'gnumactions': 4}, 'seed': 44, 'actor': {'train': {'separate': 'disabled', 'advantage': 'TD0', 'clip_grad': {'mode': 'norm', 'max_norm': 1}, 'optimizer': 'adam', 'entropy_beta': 0.1, 'lr_loss_actor': 0.001}, 'inf_weight': 0.5, 'hidden_size': 128, 'layers_before_gru': 2}, 'reset': {'mode': 'disabled'}, 'qvalue': {'mode': 'mean', 'train': {'optimizer': 'adam', 'lr_loss_qvalue': 0.01, 'target_ema_gamma': 0.99}, 'hidden_size': 64, 'replay_buffer': {'mode': 'disabled', 'capacity': 1000}, 'layers_before_gru': 2}, 'agent_0': 'loqa', 'agent_1': 'loqa', 'save_dir': '/home/mila/a/aghajohm/scratch/loqa', 'batch_size': 512, 'eval_every': 100, 'save_every': 1000, 'just_self_play': True, 'op_softmax_temp': 1, 'reward_discount': 0.96, 'agent_replay_buffer': {'mode': 'disabled', 'capacity': 10000, 'update_freq': 10, 'cur_agent_frac': 0}, 'differentiable_opponent': {'method': 'loaded-dice', 'discount': 0.9, 'exclude_after_step': 1000000000.0, 'differentiable_current_reward': False}, 'opponent_differentiation_weight': 1}\n",
      "Summary: {'always_defect_0_adversity_a': 0.2581250071525574, '_timestamp': 1695798495.3859491, 'nearpasses_1': 0.7685339450836182, '_runtime': 1776.30757021904, 'always_cooperate_0_nearpasses_a': 0.7155128121376038, 'adversarial_pickup_div_timesteps_1': 0.048906248062849045, 'nearpasses_0': 0.7680553197860718, 'always_cooperate_0_mean_rewards_d': 0.18839843571186063, 'always_cooperate_0_any_pickup_div_timesteps_d': 0.3177734315395355, 'always_cooperate_0_own_pickup_div_timesteps_a': 0.34828123450279236, 'always_cooperate_0_adversarial_pickup_div_all_pickup_d': 0, 'adversity_1': 0.048906248062849045, 'mean_rewards_0': 0.2752343714237213, 'any_pickup_div_timesteps_0': 0.373046875, 'mean_pickup_rewards_0': 0.4084874391555786, 'always_cooperate_0_adversity_d': 0, 'always_cooperate_0_adversarial_pickup_div_timesteps_a': 0.06468749791383743, 'always_cooperate_0_adversarial_pickup_div_timesteps_d': 0, '_step': 19200, 'slurm/job_user': 'aghajohm', 'always_cooperate_0_easymisses_d': 0, 'always_defect_0_adversarial_pickup_div_all_pickup_a': 0.45736435055732727, 'always_defect_0_adversarial_pickup_div_all_pickup_d': 0.4898514151573181, 'mean_rewards_1': 0.2727734446525574, 'grad_agent0_norm': 0.308231383562088, 'slurm/job_partition': 'long', 'always_defect_0_easymisses_d': 0, 'easymisses_0': 0.009100706316530704, 'slurm/cluster_name': 'mila', 'always_cooperate_0_easymisses_a': 0.014697756618261336, 'always_defect_0_any_pickup_div_timesteps_d': 0.6466405987739563, 'always_defect_0_adversarial_pickup_div_timesteps_a': 0.2581250071525574, 'easymisses_1': 0.007788162212818861, 'slurm/array_task_id': None, 'own_pickup_div_timesteps_1': 0.32347655296325684, 'always_defect_0_easymisses_a': 0.005454776342958212, 'always_defect_0_nearpasses_a': 0.1373368203639984, 'always_cooperate_0_nearpasses_d': 1, 'adversarial_pickup_div_timesteps_0': 0.0498046875, 'always_defect_0_any_pickup_div_timesteps_a': 0.5643749833106995, 'slurm/num_nodes': '1', 'mean_pickup_rewards_1': 0.4048350751399994, 'loss_agent_0_qvalue': 0.08926037698984146, 'always_defect_0_nearpasses_d': 0, 'always_defect_0_mean_rewards_d': 0.1303906291723251, 'adversarial_pickup_div_all_pickup_1': 0.13133326172828674, 'slurm/job_id': '3677552', 'action_entropy_0': 1.3862062692642212, 'always_defect_0_mean_rewards_a': -0.06914062052965164, 'always_cooperate_0_any_pickup_div_timesteps_a': 0.4129687547683716, 'always_cooperate_0_own_pickup_div_timesteps_d': 0.3177734315395355, 'agent0_entropy': 0.3062393069267273, 'own_pickup_div_timesteps_0': 0.3232421875, 'always_cooperate_0_adversity_a': 0.06468749791383743, 'always_defect_0_own_pickup_div_timesteps_d': 0.32988280057907104, 'adversity_0': 0.0498046875, 'slurm/nodelist': 'cn-g020', 'adversarial_pickup_div_all_pickup_0': 0.1335078626871109, 'always_defect_0_own_pickup_div_timesteps_a': 0.3062500059604645, 'always_defect_0_adversarial_pickup_div_timesteps_d': 0.31675779819488525, 'walltime': 1772.320936918259, 'grad_opponent0_norm': 0.4412658810615539, 'always_defect_0_adversity_d': 0.31675779819488525, 'always_cooperate_0_mean_rewards_a': 0.4129687547683716, 'slurm/cpus_per_node': '4', 'any_pickup_div_timesteps_1': 0.372382789850235, 'always_cooperate_0_adversarial_pickup_div_all_pickup_a': 0.1566401869058609, 'iteration': 19200, 'action_entropy_1': 1.386197209358215}\n",
      "Notes: None\n",
      "Tags: ['coin', 'loqa_10_seeds_v1_rb_ablation']\n",
      "==================================================\n",
      "Run ID: 1tieobkn\n",
      "Name: efficient-wood-395\n",
      "Config: {'game': {'width': 3, 'height': 3, 'game_length': 50, 'gnumactions': 4}, 'seed': 45, 'actor': {'train': {'separate': 'disabled', 'advantage': 'TD0', 'clip_grad': {'mode': 'norm', 'max_norm': 1}, 'optimizer': 'adam', 'entropy_beta': 0.1, 'lr_loss_actor': 0.001}, 'inf_weight': 0.5, 'hidden_size': 128, 'layers_before_gru': 2}, 'reset': {'mode': 'disabled'}, 'qvalue': {'mode': 'mean', 'train': {'optimizer': 'adam', 'lr_loss_qvalue': 0.01, 'target_ema_gamma': 0.99}, 'hidden_size': 64, 'replay_buffer': {'mode': 'disabled', 'capacity': 1000}, 'layers_before_gru': 2}, 'agent_0': 'loqa', 'agent_1': 'loqa', 'save_dir': '/home/mila/a/aghajohm/scratch/loqa', 'batch_size': 512, 'eval_every': 100, 'save_every': 1000, 'just_self_play': True, 'op_softmax_temp': 1, 'reward_discount': 0.96, 'agent_replay_buffer': {'mode': 'disabled', 'capacity': 10000, 'update_freq': 10, 'cur_agent_frac': 0}, 'differentiable_opponent': {'method': 'loaded-dice', 'discount': 0.9, 'exclude_after_step': 1000000000.0, 'differentiable_current_reward': False}, 'opponent_differentiation_weight': 1}\n",
      "Summary: {'always_cooperate_0_own_pickup_div_timesteps_d': 0.33921873569488525, 'slurm/job_user': 'aghajohm', 'loss_agent_0_qvalue': 0.09490642696619034, 'adversarial_pickup_div_timesteps_0': 0.11082030832767488, 'always_cooperate_0_mean_rewards_a': 0.3492187559604645, 'always_cooperate_0_adversarial_pickup_div_all_pickup_d': 0, 'slurm/cpus_per_node': '4', 'slurm/job_partition': 'long', 'always_defect_0_adversarial_pickup_div_all_pickup_d': 0.4954778254032135, 'slurm/array_task_id': None, 'always_cooperate_0_adversity_a': 0.006992187350988388, 'always_cooperate_0_adversity_d': 0, 'always_cooperate_0_any_pickup_div_timesteps_a': 0.3492187559604645, 'easymisses_0': 0.00047036688192747533, 'nearpasses_1': 0.5807504057884216, 'action_entropy_0': 1.3856406211853027, 'mean_rewards_1': 0.22046874463558197, 'slurm/cluster_name': 'mila', 'always_defect_0_adversarial_pickup_div_all_pickup_a': 0.4906189143657684, '_runtime': 1779.0924673080444, 'adversity_0': 0.11082030832767488, 'mean_rewards_0': 0.22199217975139615, 'mean_pickup_rewards_0': 0.3307531177997589, 'always_defect_0_easymisses_d': 0, 'always_cooperate_0_nearpasses_d': 1, 'always_defect_0_own_pickup_div_timesteps_a': 0.32664060592651367, 'always_cooperate_0_any_pickup_div_timesteps_d': 0.33921873569488525, 'always_defect_0_adversarial_pickup_div_timesteps_d': 0.32527342438697815, 'grad_agent0_norm': 0.5475978255271912, 'own_pickup_div_timesteps_0': 0.33203125, 'always_cooperate_0_nearpasses_a': 0.971978724002838, 'always_defect_0_mean_rewards_d': 0.02726562507450581, 'always_defect_0_any_pickup_div_timesteps_d': 0.6564843654632568, 'mean_pickup_rewards_1': 0.32848331332206726, 'own_pickup_div_timesteps_1': 0.33167967200279236, 'always_defect_0_mean_rewards_a': -0.00929687451571226, 'slurm/nodelist': 'cn-g025', 'any_pickup_div_timesteps_1': 0.4421093761920929, 'always_defect_0_adversity_a': 0.3146093785762787, 'adversity_1': 0.11042968183755876, 'nearpasses_0': 0.5785799026489258, 'any_pickup_div_timesteps_0': 0.44285154342651367, 'always_defect_0_adversarial_pickup_div_timesteps_a': 0.3146093785762787, 'action_entropy_1': 1.3858957290649414, 'always_defect_0_nearpasses_a': 0.030105972662568092, 'always_defect_0_own_pickup_div_timesteps_d': 0.3312109410762787, 'adversarial_pickup_div_all_pickup_0': 0.25024256110191345, 'always_defect_0_any_pickup_div_timesteps_a': 0.6412500143051147, 'always_cooperate_0_adversarial_pickup_div_timesteps_a': 0.006992187350988388, 'easymisses_1': 0.000470865226816386, 'always_defect_0_nearpasses_d': 0, 'adversarial_pickup_div_timesteps_1': 0.11042968183755876, '_step': 19600, 'walltime': 1774.9114003181458, 'always_cooperate_0_easymisses_d': 0, 'always_defect_0_easymisses_a': 0, 'always_cooperate_0_easymisses_a': 0.0005703856004402041, 'always_cooperate_0_mean_rewards_d': 0.3252343535423279, 'adversarial_pickup_div_all_pickup_1': 0.2497791200876236, 'always_cooperate_0_own_pickup_div_timesteps_a': 0.3422265648841858, 'agent0_entropy': 0.5582512617111206, 'grad_opponent0_norm': 0.38038599491119385, 'always_defect_0_adversity_d': 0.32527342438697815, 'always_cooperate_0_adversarial_pickup_div_timesteps_d': 0, 'always_cooperate_0_adversarial_pickup_div_all_pickup_a': 0.020022371783852577, 'slurm/num_nodes': '1', 'iteration': 19600, '_timestamp': 1695798497.9505472, 'slurm/job_id': '3677553'}\n",
      "Notes: None\n",
      "Tags: ['coin', 'loqa_10_seeds_v1_rb_ablation']\n",
      "==================================================\n",
      "Run ID: 3kfuinhg\n",
      "Name: treasured-frog-394\n",
      "Config: {'game': {'width': 3, 'height': 3, 'game_length': 50, 'gnumactions': 4}, 'seed': 43, 'actor': {'train': {'separate': 'disabled', 'advantage': 'TD0', 'clip_grad': {'mode': 'norm', 'max_norm': 1}, 'optimizer': 'adam', 'entropy_beta': 0.1, 'lr_loss_actor': 0.001}, 'inf_weight': 0.5, 'hidden_size': 128, 'layers_before_gru': 2}, 'reset': {'mode': 'disabled'}, 'qvalue': {'mode': 'mean', 'train': {'optimizer': 'adam', 'lr_loss_qvalue': 0.01, 'target_ema_gamma': 0.99}, 'hidden_size': 64, 'replay_buffer': {'mode': 'disabled', 'capacity': 1000}, 'layers_before_gru': 2}, 'agent_0': 'loqa', 'agent_1': 'loqa', 'save_dir': '/home/mila/a/aghajohm/scratch/loqa', 'batch_size': 512, 'eval_every': 100, 'save_every': 1000, 'just_self_play': True, 'op_softmax_temp': 1, 'reward_discount': 0.96, 'agent_replay_buffer': {'mode': 'disabled', 'capacity': 10000, 'update_freq': 10, 'cur_agent_frac': 0}, 'differentiable_opponent': {'method': 'loaded-dice', 'discount': 0.9, 'exclude_after_step': 1000000000.0, 'differentiable_current_reward': False}, 'opponent_differentiation_weight': 1}\n",
      "Summary: {'grad_agent0_norm': 0.2799341380596161, 'slurm/cpus_per_node': '4', 'slurm/job_partition': 'long', 'adversarial_pickup_div_all_pickup_0': 0.16373257339000702, 'always_defect_0_any_pickup_div_timesteps_d': 0.6416406035423279, 'mean_pickup_rewards_1': 0.38429367542266846, 'slurm/job_user': 'aghajohm', 'own_pickup_div_timesteps_0': 0.3210156261920929, 'always_cooperate_0_mean_rewards_d': 0.32421875, 'always_cooperate_0_any_pickup_div_timesteps_d': 0.3370312452316284, 'always_defect_0_adversarial_pickup_div_all_pickup_a': 0.5183833241462708, 'always_cooperate_0_adversarial_pickup_div_all_pickup_a': 0.018480954691767693, '_step': 19200, 'nearpasses_1': 0.7511599063873291, 'slurm/job_id': '3677551', 'always_defect_0_own_pickup_div_timesteps_d': 0.3197656273841858, 'always_cooperate_0_any_pickup_div_timesteps_a': 0.34664061665534973, 'loss_agent_0_qvalue': 0.16988888382911682, 'any_pickup_div_timesteps_0': 0.38386717438697815, 'always_defect_0_nearpasses_d': 0, 'always_cooperate_0_nearpasses_d': 0.9999999403953552, 'adversarial_pickup_div_timesteps_1': 0.06285156309604645, '_timestamp': 1695798095.8257413, 'mean_rewards_1': 0.25843748450279236, 'adversarial_pickup_div_timesteps_0': 0.06285156309604645, 'always_defect_0_own_pickup_div_timesteps_a': 0.27835938334465027, 'always_cooperate_0_own_pickup_div_timesteps_a': 0.3402343690395355, 'easymisses_1': 0.00024310198205057532, 'slurm/array_task_id': None, 'always_cooperate_0_adversity_d': 0, 'always_defect_0_mean_rewards_a': -0.06578125059604645, 'always_defect_0_mean_rewards_d': 0.04242187365889549, 'always_cooperate_0_easymisses_a': 0.00011479738168418407, 'always_cooperate_0_adversarial_pickup_div_timesteps_d': 0, 'always_defect_0_easymisses_a': 0, 'always_cooperate_0_easymisses_d': 0, '_runtime': 1745.696657180786, 'nearpasses_0': 0.7476078867912292, 'always_cooperate_0_own_pickup_div_timesteps_d': 0.3370312452316284, 'always_cooperate_0_adversarial_pickup_div_all_pickup_d': 0, 'adversity_0': 0.06285156309604645, 'slurm/nodelist': 'cn-g024', 'action_entropy_0': 1.383242130279541, 'always_defect_0_adversity_d': 0.3218750059604645, 'always_cooperate_0_nearpasses_a': 0.974346935749054, 'always_defect_0_adversarial_pickup_div_timesteps_a': 0.29960936307907104, 'mean_rewards_0': 0.25816404819488525, 'own_pickup_div_timesteps_1': 0.3212890625, 'always_defect_0_any_pickup_div_timesteps_a': 0.5779687166213989, 'always_defect_0_adversarial_pickup_div_timesteps_d': 0.3218750059604645, 'walltime': 1741.1010177135468, 'always_defect_0_nearpasses_a': 0.047204967588186264, 'adversity_1': 0.06285156309604645, 'agent0_entropy': 0.42682480812072754, 'slurm/cluster_name': 'mila', 'any_pickup_div_timesteps_1': 0.38414061069488525, 'adversarial_pickup_div_all_pickup_1': 0.16361601650714874, 'action_entropy_1': 1.3832253217697144, 'mean_pickup_rewards_0': 0.38388708233833313, 'always_defect_0_adversity_a': 0.29960936307907104, 'always_cooperate_0_adversity_a': 0.0064062499441206455, 'iteration': 19200, 'easymisses_0': 0.0002433089975966141, 'always_defect_0_easymisses_d': 0, 'slurm/num_nodes': '1', 'grad_opponent0_norm': 0.5241691470146179, 'always_cooperate_0_mean_rewards_a': 0.34664061665534973, 'always_defect_0_adversarial_pickup_div_all_pickup_d': 0.501643717288971, 'always_cooperate_0_adversarial_pickup_div_timesteps_a': 0.0064062499441206455}\n",
      "Notes: None\n",
      "Tags: ['coin', 'loqa_10_seeds_v1_rb_ablation']\n",
      "==================================================\n",
      "Run ID: 2xndvhhp\n",
      "Name: vocal-sky-393\n",
      "Config: {'game': {'width': 3, 'height': 3, 'game_length': 50, 'gnumactions': 4}, 'seed': 42, 'actor': {'train': {'separate': 'disabled', 'advantage': 'TD0', 'clip_grad': {'mode': 'norm', 'max_norm': 1}, 'optimizer': 'adam', 'entropy_beta': 0.1, 'lr_loss_actor': 0.001}, 'inf_weight': 0.5, 'hidden_size': 128, 'layers_before_gru': 2}, 'reset': {'mode': 'disabled'}, 'qvalue': {'mode': 'mean', 'train': {'optimizer': 'adam', 'lr_loss_qvalue': 0.01, 'target_ema_gamma': 0.99}, 'hidden_size': 64, 'replay_buffer': {'mode': 'disabled', 'capacity': 1000}, 'layers_before_gru': 2}, 'agent_0': 'loqa', 'agent_1': 'loqa', 'save_dir': '/home/mila/a/aghajohm/scratch/loqa', 'batch_size': 512, 'eval_every': 100, 'save_every': 1000, 'just_self_play': True, 'op_softmax_temp': 1, 'reward_discount': 0.96, 'agent_replay_buffer': {'mode': 'disabled', 'capacity': 10000, 'update_freq': 10, 'cur_agent_frac': 0}, 'differentiable_opponent': {'method': 'loaded-dice', 'discount': 0.9, 'exclude_after_step': 1000000000.0, 'differentiable_current_reward': False}, 'opponent_differentiation_weight': 1}\n",
      "Summary: {'always_defect_0_adversarial_pickup_div_all_pickup_a': 0.49744975566864014, 'always_defect_0_mean_rewards_a': -0.007070312276482582, 'easymisses_1': 0.0002376425836700946, 'mean_rewards_0': 0.013749999925494194, 'action_entropy_1': 1.3862648010253906, 'always_cooperate_0_nearpasses_d': 1, 'adversarial_pickup_div_timesteps_0': 0.31925779581069946, 'adversarial_pickup_div_all_pickup_1': 0.4907088279724121, 'easymisses_0': 0.0005953798536211252, 'nearpasses_1': 0.033730633556842804, 'action_entropy_0': 1.386250138282776, 'iteration': 19500, 'adversity_1': 0.3166796863079071, 'slurm/job_id': '3677550', 'always_cooperate_0_own_pickup_div_timesteps_d': 0.3314453065395355, 'always_defect_0_adversarial_pickup_div_timesteps_a': 0.3238281309604645, 'adversity_0': 0.31925779581069946, 'always_defect_0_nearpasses_a': 0.016140516847372055, 'always_cooperate_0_adversity_d': 0, 'adversarial_pickup_div_timesteps_1': 0.3166796863079071, 'always_defect_0_adversarial_pickup_div_all_pickup_d': 0.5004753470420837, 'mean_rewards_1': 0.0068359375, 'slurm/array_task_id': None, 'mean_pickup_rewards_0': 0.02052837237715721, 'any_pickup_div_timesteps_0': 0.6471093893051147, 'always_defect_0_nearpasses_d': 0, 'always_cooperate_0_adversity_a': 0.1708984375, 'always_cooperate_0_easymisses_d': 0, 'always_cooperate_0_nearpasses_a': 0.4762987792491913, 'grad_opponent0_norm': 0.12494376301765442, 'always_defect_0_adversarial_pickup_div_timesteps_d': 0.32902342081069946, 'slurm/cpus_per_node': '4', 'always_defect_0_adversity_a': 0.3238281309604645, 'always_cooperate_0_easymisses_a': 0.0014920233516022563, '_step': 19500, 'nearpasses_0': 0.03243755176663399, 'always_cooperate_0_adversarial_pickup_div_timesteps_a': 0.1708984375, '_timestamp': 1695797380.8717694, 'any_pickup_div_timesteps_1': 0.6453515291213989, 'always_cooperate_0_mean_rewards_a': 0.5107421875, 'always_cooperate_0_any_pickup_div_timesteps_d': 0.3314453065395355, 'slurm/num_nodes': '1', 'own_pickup_div_timesteps_0': 0.3278515636920929, 'always_defect_0_easymisses_a': 0.0002387489512329921, 'always_cooperate_0_own_pickup_div_timesteps_a': 0.33984375, 'always_cooperate_0_adversarial_pickup_div_timesteps_d': 0, 'grad_agent0_norm': 0.4621162414550781, 'always_cooperate_0_mean_rewards_d': -0.010351561941206455, 'agent0_entropy': 0.2927511930465698, 'always_defect_0_own_pickup_div_timesteps_a': 0.3271484375, 'always_defect_0_adversity_d': 0.32902342081069946, 'slurm/nodelist': 'cn-g018', 'loss_agent_0_qvalue': 0.01970924437046051, 'mean_pickup_rewards_1': 0.01020586770027876, 'own_pickup_div_timesteps_1': 0.3286718726158142, 'always_defect_0_easymisses_d': 0, 'always_defect_0_mean_rewards_d': 0.009765625, 'always_defect_0_any_pickup_div_timesteps_a': 0.6509765386581421, 'slurm/job_user': 'aghajohm', 'always_defect_0_own_pickup_div_timesteps_d': 0.3283984363079071, 'adversarial_pickup_div_all_pickup_0': 0.49335992336273193, 'walltime': 1773.791979074478, 'slurm/cluster_name': 'mila', 'slurm/job_partition': 'long', 'always_defect_0_any_pickup_div_timesteps_d': 0.657421886920929, 'always_cooperate_0_any_pickup_div_timesteps_a': 0.5107421875, 'always_cooperate_0_adversarial_pickup_div_all_pickup_a': 0.3346080482006073, 'always_cooperate_0_adversarial_pickup_div_all_pickup_d': 0, '_runtime': 1777.3607025146484}\n",
      "Notes: None\n",
      "Tags: ['coin', 'loqa_10_seeds_v1_rb_ablation']\n",
      "==================================================\n",
      "Found 10 runs with tag loqa_10_seeds_v1_rb_ablation\n"
     ]
    }
   ],
   "source": [
    "\n",
    "# chosen_tag = \"iconic-planet-190-seeds\"\n",
    "# chosen_tag = \"loqa_10_seeds_v1\"\n",
    "chosen_tag = \"loqa_10_seeds_v1_rb_ablation\"\n",
    "\n",
    "runs = api.runs(path=f\"{entity}/{project}\", filters={\"tags\": {\"$in\": [chosen_tag]}})\n",
    "\n",
    "# Print specifics of the runs\n",
    "for run in runs:\n",
    "    print(\"Run ID:\", run.id)\n",
    "    print(\"Name:\", run.name)\n",
    "    print(\"Config:\", run.config)\n",
    "    print(\"Summary:\", run.summary)\n",
    "    print(\"Notes:\", run.notes)\n",
    "    print(\"Tags:\", run.tags)\n",
    "    print(\"=\"*50)\n",
    "    \n",
    "print(f\"Found {len(runs)} runs with tag {chosen_tag}\")"
   ],
   "metadata": {
    "collapsed": false,
    "ExecuteTime": {
     "end_time": "2023-09-27T07:11:28.325434Z",
     "start_time": "2023-09-27T07:11:28.084276Z"
    }
   },
   "id": "50a07ea80ef972b4"
  },
  {
   "cell_type": "markdown",
   "source": [
    "# Load runs by run_ids"
   ],
   "metadata": {
    "collapsed": false
   },
   "id": "458545a99242cd72"
  },
  {
   "cell_type": "code",
   "execution_count": null,
   "outputs": [],
   "source": [
    "run_ids = ['301bjspk']\n",
    "runs = [api.run(f\"{entity}/{project}/{run_id}\") for run_id in run_ids]"
   ],
   "metadata": {
    "collapsed": false
   },
   "id": "bcb2b1eaee266eda"
  },
  {
   "cell_type": "markdown",
   "source": [
    "# Copy to Local"
   ],
   "metadata": {
    "collapsed": false
   },
   "id": "e8ad99d9705aa6fc"
  },
  {
   "cell_type": "code",
   "execution_count": 13,
   "outputs": [
    {
     "name": "stdout",
     "output_type": "stream",
     "text": [
      "finished writing 1abkzsx3\n",
      "finished writing ejpsvuwk\n",
      "finished writing d3g7n3wp\n",
      "finished writing 375wzono\n",
      "finished writing 2zpspi7d\n",
      "finished writing 3tocppgh\n",
      "finished writing 3o6xocrm\n",
      "finished writing 1tieobkn\n",
      "finished writing 3kfuinhg\n",
      "finished writing 2xndvhhp\n"
     ]
    }
   ],
   "source": [
    "from pathlib import Path\n",
    "local_save_dir = Path(\"/Users/miladaghajohari/PycharmProjects/loqa/league/checkpoints/loqa_ckpt_10_seeds_v1_rb_ablation/\")\n",
    "# make local dir if it does not exist\n",
    "if not local_save_dir.exists():\n",
    "    os.makedirs(local_save_dir)\n",
    "mila_save_dir = Path(\"mila:/home/mila/a/aghajohm/scratch/loqa/\")\n",
    "# download from mila cluster to local\n",
    "for run in runs:\n",
    "   cluster_name = run.summary['slurm/cluster_name']\n",
    "   run_id = run.id\n",
    "   if cluster_name == 'mila':\n",
    "     os.system(f\"scp -r -P 2222 {mila_save_dir/run_id} {local_save_dir/run_id}\")\n",
    "   else:\n",
    "       print(f\"cluster name {cluster_name} is not recognized.\")\n",
    "       print(f\"skipping {run_id}\")\n",
    "       continue\n",
    "   print(f'finished writing {run_id}')"
   ],
   "metadata": {
    "collapsed": false,
    "ExecuteTime": {
     "end_time": "2023-09-27T07:15:48.089160Z",
     "start_time": "2023-09-27T07:11:32.266842Z"
    }
   },
   "id": "155a3181d3105425"
  },
  {
   "cell_type": "markdown",
   "source": [
    "# Load agents (just play with them for sanity check)"
   ],
   "metadata": {
    "collapsed": false
   },
   "id": "2ca808bfc708f8d1"
  },
  {
   "cell_type": "code",
   "execution_count": null,
   "outputs": [],
   "source": [
    "from coin_train import GRUCoinAgent, CoinAgent\n",
    "import pickle\n",
    "\n",
    "def load_loqa_agent(path, player_id: int):\n",
    "    with open(path, 'rb') as f:\n",
    "        minimal_state = pickle.load(f)\n",
    "    hp = minimal_state['hp']\n",
    "    agent_params = minimal_state[f'agent0']['params']\n",
    "    agent_module = GRUCoinAgent(hidden_size_actor=hp['actor']['hidden_size'],\n",
    "                                hidden_size_qvalue=hp['qvalue']['hidden_size'],\n",
    "                                layers_before_gru_actor=hp['actor']['layers_before_gru'],\n",
    "                                layers_before_gru_qvalue=hp['qvalue']['layers_before_gru'], )\n",
    "    # IMPORTANT: this is a hack to change player_id, but it works because the agent just sees the obsseq with GRU, and we just use inference, so it does not matter\n",
    "    return CoinAgent(params=agent_params, model=agent_module, player=player_id), hp\n",
    "\n",
    "agent, hp = load_loqa_agent('/Users/miladaghajohari/PycharmProjects/loqa/league/checkpoints/loqa_ckpt_iconic_planet_190_seeds/1bwbcc0q/minimal_state_30000', player_id=0)"
   ],
   "metadata": {
    "collapsed": false
   },
   "id": "ad942d696dc67329"
  },
  {
   "cell_type": "code",
   "execution_count": null,
   "outputs": [],
   "source": [
    "c_0 = agent.get_initial_carries()\n",
    "c_0_actor = c_0['carry_actor']\n",
    "c_0_qvalue = c_0['carry_qvalue']\n",
    "c_1_actor = c_0_actor\n",
    "c_1_qvalue = c_0_qvalue\n",
    "\n",
    "carries = {'c_0_actor': c_0_actor,\n",
    "           'c_0_qvalue': c_0_qvalue,\n",
    "           'c_1_actor': c_1_actor,\n",
    "           'c_1_qvalue': c_1_qvalue}"
   ],
   "metadata": {
    "collapsed": false
   },
   "id": "65823e6b274dc76"
  },
  {
   "cell_type": "code",
   "execution_count": null,
   "outputs": [],
   "source": [
    "from coin_train import generate_episodes\n",
    "import jax, flax\n",
    "hp = flax.core.FrozenDict(hp)\n",
    "episodes = generate_episodes(agent, [agent], player_id=0, rng=jax.random.PRNGKey(42), hp=hp, carries=carries)"
   ],
   "metadata": {
    "collapsed": false
   },
   "id": "2131b82ea3251cd0"
  },
  {
   "cell_type": "code",
   "execution_count": null,
   "outputs": [],
   "source": [
    "episodes['rew'].sum(axis=1).mean(axis=0)"
   ],
   "metadata": {
    "collapsed": false
   },
   "id": "3d1a7b428bd9f28f"
  },
  {
   "cell_type": "code",
   "execution_count": null,
   "outputs": [],
   "source": [
    "from coin_game import do_eval_agent_against_always_cooperate\n",
    "play_rngs = jax.random.split(jax.random.PRNGKey(78), 16)\n",
    "play_rngs = jax.numpy.stack(play_rngs)\n",
    "episodes = jax.vmap(lambda r: do_eval_agent_against_always_cooperate(agent=agent,\n",
    "                                                                         hp=hp,\n",
    "                                                                         rng=r))(play_rngs)"
   ],
   "metadata": {
    "collapsed": false
   },
   "id": "17fdb1d493c6dc9d"
  },
  {
   "cell_type": "code",
   "execution_count": null,
   "outputs": [],
   "source": [
    "episodes['rew'].sum(axis=1).mean(axis=0)"
   ],
   "metadata": {
    "collapsed": false
   },
   "id": "2555584c97cdf2af"
  }
 ],
 "metadata": {
  "kernelspec": {
   "display_name": "Python 3",
   "language": "python",
   "name": "python3"
  },
  "language_info": {
   "codemirror_mode": {
    "name": "ipython",
    "version": 2
   },
   "file_extension": ".py",
   "mimetype": "text/x-python",
   "name": "python",
   "nbconvert_exporter": "python",
   "pygments_lexer": "ipython2",
   "version": "2.7.6"
  }
 },
 "nbformat": 4,
 "nbformat_minor": 5
}
