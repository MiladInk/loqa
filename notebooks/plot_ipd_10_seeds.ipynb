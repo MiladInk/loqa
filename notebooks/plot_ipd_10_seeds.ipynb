{
 "cells": [
  {
   "cell_type": "code",
   "execution_count": null,
   "id": "initial_id",
   "metadata": {
    "collapsed": true
   },
   "outputs": [],
   "source": [
    "import os\n",
    "import pickle\n",
    "\n",
    "import flax.core\n",
    "import jax.random\n",
    "import wandb"
   ]
  },
  {
   "cell_type": "code",
   "execution_count": null,
   "outputs": [],
   "source": [
    "# Set the project and entity if necessary\n",
    "# entity is typically your username or team name\n",
    "entity = \"miladink\"\n",
    "project = \"loqa-ipd\"\n",
    "api = wandb.Api()"
   ],
   "metadata": {
    "collapsed": false
   },
   "id": "aa5f195d1fae5aca"
  },
  {
   "cell_type": "code",
   "execution_count": null,
   "outputs": [],
   "source": [
    "# Load runs by tag"
   ],
   "metadata": {
    "collapsed": false
   },
   "id": "8fb834d6f7598cef"
  },
  {
   "cell_type": "code",
   "execution_count": null,
   "outputs": [],
   "source": [
    "\n",
    "chosen_tag = \"ipd_10_seeds_v4\"\n",
    "\n",
    "runs = api.runs(path=f\"{entity}/{project}\", filters={\"tags\": {\"$in\": [chosen_tag]}})\n",
    "\n",
    "# Print specifics of the runs\n",
    "for run in runs:\n",
    "    print(\"Run ID:\", run.id)\n",
    "    print(\"Name:\", run.name)\n",
    "    print(\"Config:\", run.config)\n",
    "    print(\"Summary:\", run.summary)\n",
    "    print(\"Notes:\", run.notes)\n",
    "    print(\"Tags:\", run.tags)\n",
    "    print(\"=\"*50)\n",
    "    \n",
    "print(f\"Found {len(runs)} runs\")"
   ],
   "metadata": {
    "collapsed": false
   },
   "id": "f30aba467561beff"
  },
  {
   "cell_type": "markdown",
   "source": [
    "\n",
    "# Load runs by run_ids"
   ],
   "metadata": {
    "collapsed": false
   },
   "id": "458545a99242cd72"
  },
  {
   "cell_type": "code",
   "execution_count": null,
   "outputs": [],
   "source": [
    "run_ids = ['301bjspk']\n",
    "runs = [api.run(f\"{entity}/{project}/{run_id}\") for run_id in run_ids]"
   ],
   "metadata": {
    "collapsed": false
   },
   "id": "bcb2b1eaee266eda"
  },
  {
   "cell_type": "code",
   "execution_count": null,
   "outputs": [],
   "source": [
    "target_step = 6000\n",
    "run_keys = ['p_0_START_C', 'p_0_CC_C', 'p_0_CD_C', 'p_0_DC_C', 'p_0_DD_C']\n",
    "# get history of the keys\n",
    "def grab_run_data(run):\n",
    "    history = run.scan_history(keys=run_keys)\n",
    "    data = [{k: row[k] for k in run_keys} for row in history]\n",
    "    return data\n",
    "\n",
    "grab_run_data(runs[0])"
   ],
   "metadata": {
    "collapsed": false
   },
   "id": "eecd9b30e21a1f9e"
  },
  {
   "cell_type": "code",
   "execution_count": null,
   "outputs": [],
   "source": [
    "def extract_data(run, key):\n",
    "    for row in run.scan_history(keys=[key]):\n",
    "        print(row)\n",
    "        yield {key: row[key]}\n",
    "\n",
    "# list(extract_data(runs[0], \"p_0_START_C\"))\n",
    "list(extract_data(runs[1], \"p_0_CC_C\"))"
   ],
   "metadata": {
    "collapsed": false
   },
   "id": "ab8ce449eaafd56b"
  },
  {
   "cell_type": "code",
   "execution_count": null,
   "outputs": [],
   "source": [
    "def extract_data(run):\n",
    "    for step, row in enumerate(run.scan_history()):\n",
    "        print(row)\n",
    "        data = {}\n",
    "        data['step'] = row['_step']\n",
    "        for key, value in row.items():\n",
    "            data[key] = value\n",
    "        yield data\n",
    "\n",
    "\n",
    "# Usage\n",
    "run_data = {}\n",
    "for run in runs:\n",
    "    run_data[run.name] = list(extract_data(run))"
   ],
   "metadata": {
    "collapsed": false
   },
   "id": "3c680626e767678d"
  },
  {
   "cell_type": "code",
   "execution_count": null,
   "outputs": [],
   "source": [
    "from collections import defaultdict\n",
    "\n",
    "organized_data = {}\n",
    "for run in runs:\n",
    "    organized_data[run.name] = defaultdict(dict)\n",
    "    for data in run_data[run.name]:\n",
    "        for key, value in data.items():\n",
    "            real_step = (data['step'] // 100)*100\n",
    "            organized_data[run.name][real_step][key] = value"
   ],
   "metadata": {
    "collapsed": false
   },
   "id": "2ae02cc0b198ec6"
  },
  {
   "cell_type": "code",
   "execution_count": null,
   "outputs": [],
   "source": [
    "import numpy as np\n",
    "\n",
    "step = 7000\n",
    "\n",
    "stats = {}\n",
    "state_names =  ['START', 'CC', 'CD', 'DC', 'DD']\n",
    "for state in state_names:\n",
    "    key = f'p_0_{state}_C'\n",
    "    stats[key] = np.array([organized_data[run.name][step][key] for run in runs])\n",
    "\n",
    "stats\n"
   ],
   "metadata": {
    "collapsed": false
   },
   "id": "9cbea103c7bc86fe"
  },
  {
   "cell_type": "code",
   "execution_count": null,
   "outputs": [],
   "source": [
    "import matplotlib\n",
    "import matplotlib.pyplot as plt\n",
    "import seaborn as sns\n",
    "sns.set(style=\"whitegrid\", font_scale=1.5)\n",
    "# bar plot\n",
    "fig, ax = plt.subplots(figsize=(8, 8))\n",
    "ys = [l.mean() for l in stats.values()]\n",
    "yerr = [l.std() for l in stats.values()]\n",
    "xs = state_names\n",
    "bar = ax.bar(x=xs, height=ys, yerr=yerr, align='center', alpha=1.0, ecolor='black', capsize=20, color=['purple'])\n",
    "ax.set_ylabel('Probability of Cooperation', fontsize=20)\n",
    "ax.set_xlabel('State', fontsize=20)\n",
    "ax.set_title('LOQA (Ours)', fontsize=20)\n",
    "\n",
    "for rect in bar:\n",
    "    rect.set_edgecolor('gray')\n",
    "    rect.set_linewidth(3.0)\n",
    "\n",
    "plt.savefig('ipd_exp.pdf', bbox_inches='tight')"
   ],
   "metadata": {
    "collapsed": false
   },
   "id": "68f8fdc99edbc8bb"
  },
  {
   "cell_type": "code",
   "execution_count": null,
   "outputs": [],
   "source": [
    "[l for l in stats.values()]"
   ],
   "metadata": {
    "collapsed": false
   },
   "id": "83116abb21e2d7c"
  },
  {
   "cell_type": "code",
   "execution_count": null,
   "outputs": [],
   "source": [],
   "metadata": {
    "collapsed": false
   },
   "id": "c636607a110f05fb"
  }
 ],
 "metadata": {
  "kernelspec": {
   "display_name": "Python 3",
   "language": "python",
   "name": "python3"
  },
  "language_info": {
   "codemirror_mode": {
    "name": "ipython",
    "version": 2
   },
   "file_extension": ".py",
   "mimetype": "text/x-python",
   "name": "python",
   "nbconvert_exporter": "python",
   "pygments_lexer": "ipython2",
   "version": "2.7.6"
  }
 },
 "nbformat": 4,
 "nbformat_minor": 5
}
