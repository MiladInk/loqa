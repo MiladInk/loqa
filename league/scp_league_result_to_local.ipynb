{
 "cells": [
  {
   "cell_type": "code",
   "execution_count": 1,
   "id": "initial_id",
   "metadata": {
    "collapsed": true,
    "ExecuteTime": {
     "end_time": "2023-09-27T20:25:05.739362Z",
     "start_time": "2023-09-27T20:24:59.920968Z"
    }
   },
   "outputs": [
    {
     "name": "stdout",
     "output_type": "stream",
     "text": [
      "finished loading\n"
     ]
    }
   ],
   "source": [
    "import os\n",
    "from pathlib import Path\n",
    "# league_ckpts = [\"league_20230920_1541_all_results_matrix.pkl\"]\n",
    "# league_ckpts = [\"league_20230924_1503_all_results_matrix.pkl\"]\n",
    "league_ckpts = [\"league_20230927_0336_ablation_results_matrix.pkl\"]\n",
    "local_save_dir = Path(\"/Users/miladaghajohari/PycharmProjects/loqa/league/results/\") \n",
    "mila_save_dir = Path(\"mila:/home/mila/a/aghajohm/repos/loqa/league\")\n",
    "# download from mila cluster to local\n",
    "for league_ckpt in league_ckpts:\n",
    "    os.system(f\"scp -r -P 2222 {mila_save_dir/league_ckpt} {local_save_dir/league_ckpt}\")\n",
    "    print(f'finished loading')"
   ]
  },
  {
   "cell_type": "code",
   "execution_count": null,
   "outputs": [],
   "source": [],
   "metadata": {
    "collapsed": false
   },
   "id": "f7b87aa9b070ccb6"
  }
 ],
 "metadata": {
  "kernelspec": {
   "display_name": "Python 3",
   "language": "python",
   "name": "python3"
  },
  "language_info": {
   "codemirror_mode": {
    "name": "ipython",
    "version": 2
   },
   "file_extension": ".py",
   "mimetype": "text/x-python",
   "name": "python",
   "nbconvert_exporter": "python",
   "pygments_lexer": "ipython2",
   "version": "2.7.6"
  }
 },
 "nbformat": 4,
 "nbformat_minor": 5
}
